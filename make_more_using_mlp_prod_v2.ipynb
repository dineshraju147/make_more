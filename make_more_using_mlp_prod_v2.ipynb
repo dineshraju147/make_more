{
 "cells": [
  {
   "cell_type": "code",
   "id": "initial_id",
   "metadata": {
    "collapsed": true,
    "ExecuteTime": {
     "end_time": "2025-07-11T04:36:51.591059Z",
     "start_time": "2025-07-11T04:36:51.587427Z"
    }
   },
   "source": [
    "import torch\n",
    "import torch.nn.functional as F\n",
    "import matplotlib.pyplot as plt # for making figures\n",
    "\n",
    "from Transformers.NanoGPT import vocab_size\n",
    "%matplotlib inline\n"
   ],
   "outputs": [],
   "execution_count": 9
  },
  {
   "metadata": {
    "ExecuteTime": {
     "end_time": "2025-07-11T04:36:51.605566Z",
     "start_time": "2025-07-11T04:36:51.599812Z"
    }
   },
   "cell_type": "code",
   "source": [
    "# read in all the words\n",
    "words = open('names.txt', 'r').read().splitlines()\n",
    "words[:8]"
   ],
   "id": "8a2b89a8ca48a0e",
   "outputs": [
    {
     "data": {
      "text/plain": [
       "['emma', 'olivia', 'ava', 'isabella', 'sophia', 'charlotte', 'mia', 'amelia']"
      ]
     },
     "execution_count": 10,
     "metadata": {},
     "output_type": "execute_result"
    }
   ],
   "execution_count": 10
  },
  {
   "metadata": {
    "ExecuteTime": {
     "end_time": "2025-07-11T04:36:51.626961Z",
     "start_time": "2025-07-11T04:36:51.624238Z"
    }
   },
   "cell_type": "code",
   "source": "len(words)",
   "id": "b3d1244c552afb16",
   "outputs": [
    {
     "data": {
      "text/plain": [
       "32033"
      ]
     },
     "execution_count": 11,
     "metadata": {},
     "output_type": "execute_result"
    }
   ],
   "execution_count": 11
  },
  {
   "metadata": {
    "ExecuteTime": {
     "end_time": "2025-07-11T12:56:11.678107Z",
     "start_time": "2025-07-11T12:56:11.670274Z"
    }
   },
   "cell_type": "code",
   "source": [
    "# build the vocabulary of characters and mappings to/from integers\n",
    "chars = sorted(list(set(''.join(words))))\n",
    "stoi = {s:i+1 for i,s in enumerate(chars)}\n",
    "stoi['.'] = 0\n",
    "itos = {i:s for s,i in stoi.items()}\n",
    "vocab_size = len(itos)\n",
    "print(itos)\n",
    "print(vocab_size)"
   ],
   "id": "fb6993bd6009f0fb",
   "outputs": [
    {
     "name": "stdout",
     "output_type": "stream",
     "text": [
      "{1: 'a', 2: 'b', 3: 'c', 4: 'd', 5: 'e', 6: 'f', 7: 'g', 8: 'h', 9: 'i', 10: 'j', 11: 'k', 12: 'l', 13: 'm', 14: 'n', 15: 'o', 16: 'p', 17: 'q', 18: 'r', 19: 's', 20: 't', 21: 'u', 22: 'v', 23: 'w', 24: 'x', 25: 'y', 26: 'z', 0: '.'}\n",
      "27\n"
     ]
    }
   ],
   "execution_count": 98
  },
  {
   "metadata": {
    "ExecuteTime": {
     "end_time": "2025-07-11T12:49:21.698620Z",
     "start_time": "2025-07-11T12:49:21.567996Z"
    }
   },
   "cell_type": "code",
   "source": [
    "block_size = 3\n",
    "context = [0] * block_size\n",
    "\n",
    "\n",
    "def build_datasets(words):\n",
    "    X , Y = [] , []\n",
    "\n",
    "    for w in words:\n",
    "        # print(w)\n",
    "        context = [0] * block_size\n",
    "        for ch in w + \".\":\n",
    "            ix = stoi[ch]\n",
    "            X.append(context)\n",
    "            Y.append(ix)\n",
    "            # print(\"X:\" , X ,  \"Y:\" , Y)\n",
    "            # print(''.join(itos[i] for i in context), '--->', itos[ix])\n",
    "            context = context[1:] + [ix]\n",
    "\n",
    "    X = torch.tensor(X)\n",
    "    Y = torch.tensor(Y)\n",
    "    return X, Y\n",
    "\n",
    "import random\n",
    "random.seed(0)\n",
    "random.shuffle(words)\n",
    "n1 = int(0.8*len(words))\n",
    "n2 = int(0.9*len(words))\n",
    "\n",
    "Xtr, Ytr = build_datasets(words[:n1])  # 80% of Xtr\n",
    "Xdev, Ydev = build_datasets(words[n1:n2]) # 10%\n",
    "Xte, Yte = build_datasets(words[n2:]) # 10%\n",
    "\n",
    "print(f'Xtr: {Xtr.shape}, Ytr: {Ytr.shape}')\n",
    "print(f'Xdev: {Xdev.shape}, Ydev: {Ydev.shape}')\n",
    "print(f'Xte: {Xte.shape}, Yte: {Yte.shape}')\n",
    "\n"
   ],
   "id": "e9260b3b47607686",
   "outputs": [
    {
     "name": "stdout",
     "output_type": "stream",
     "text": [
      "Xtr: torch.Size([182469, 3]), Ytr: torch.Size([182469])\n",
      "Xdev: torch.Size([22839, 3]), Ydev: torch.Size([22839])\n",
      "Xte: torch.Size([22838, 3]), Yte: torch.Size([22838])\n"
     ]
    }
   ],
   "execution_count": 93
  },
  {
   "metadata": {
    "ExecuteTime": {
     "end_time": "2025-07-11T12:49:34.235964Z",
     "start_time": "2025-07-11T12:49:34.231675Z"
    }
   },
   "cell_type": "code",
   "source": "print(Xtr.size(), Ytr.size(), Xte.size(), Yte.size())",
   "id": "bea1a2397270b17e",
   "outputs": [
    {
     "name": "stdout",
     "output_type": "stream",
     "text": [
      "torch.Size([182469, 3]) torch.Size([182469]) torch.Size([22838, 3]) torch.Size([22838])\n"
     ]
    }
   ],
   "execution_count": 95
  },
  {
   "metadata": {},
   "cell_type": "markdown",
   "source": "<img src=\"Transformers/images/img.png\">",
   "id": "2d50be005633e714"
  },
  {
   "metadata": {
    "ExecuteTime": {
     "end_time": "2025-07-11T04:36:51.846618Z",
     "start_time": "2025-07-11T04:36:51.844883Z"
    }
   },
   "cell_type": "code",
   "source": "# ------------- > lets make this more cleaner",
   "id": "317137c8d8f5d059",
   "outputs": [],
   "execution_count": 15
  },
  {
   "metadata": {
    "ExecuteTime": {
     "end_time": "2025-07-11T13:00:42.028966Z",
     "start_time": "2025-07-11T13:00:42.018200Z"
    }
   },
   "cell_type": "code",
   "source": [
    "num_embeddings = 10  # dimensionality of the character level embedding vectors\n",
    "n_hidden = 200  # number of neurons in the hidden layer\n",
    "\n",
    "g = torch.Generator().manual_seed(2323938434709) # for reproducibility\n",
    "C = torch.rand(27, num_embeddings,       generator=g)  # look up table --> 2-10 (increasing embedding dim)\n",
    "W1 = torch.randn((30, n_hidden),         generator=g)\n",
    "b1 = torch.randn(n_hidden,               generator=g)\n",
    "W2 = torch.randn((n_hidden, vocab_size), generator=g)\n",
    "b2 = torch.randn(vocab_size,             generator=g)\n",
    "\n",
    "parameters = [C, W1, b1, W2, b2]\n",
    "print(f\"Total_parameters :{sum(p.nelement() for p in parameters)}\") # total num of parameters\n",
    "\n",
    "for p in parameters:\n",
    "    p.requires_grad = True"
   ],
   "id": "b272a4435a68a140",
   "outputs": [
    {
     "name": "stdout",
     "output_type": "stream",
     "text": [
      "Total_parameters :11897\n"
     ]
    }
   ],
   "execution_count": 104
  },
  {
   "metadata": {
    "ExecuteTime": {
     "end_time": "2025-07-11T13:56:24.304887Z",
     "start_time": "2025-07-11T13:55:57.145141Z"
    }
   },
   "cell_type": "code",
   "source": [
    "epochs = 200000\n",
    "batch_size = 32\n",
    "lossi = []\n",
    "\n",
    "for epoch in range(epochs):\n",
    "\n",
    "    # mini_batch Constructor\n",
    "    ix = torch.randint(0, Xtr.shape[0], (batch_size, ), generator=g)\n",
    "    Xb, Yb = Xtr[ix], Ytr[ix] # batch X and Y\n",
    "\n",
    "    # Forward pass\n",
    "    emb = C[Xb]  # (32, 3, 10)\n",
    "    embcat = emb.view(emb.shape[0], -1) # concatenate vectors\n",
    "\n",
    "    # non- linearity\n",
    "    h = torch.tanh(embcat @ W1 + b1)  # hidden layer\n",
    "    logits = h @ W2 + b2 # output layer\n",
    "    loss = F.cross_entropy(logits, Yb) # loss function\n",
    "\n",
    "    # Backward Pass\n",
    "    for p in parameters:\n",
    "        p.grad = None\n",
    "    loss.backward()\n",
    "\n",
    "    # update parameters\n",
    "    # lr = lrs[i]\n",
    "    lr = 0.1 if epoch < 100000 else 0.01\n",
    "    for p in parameters:\n",
    "        learning_rate = -lr\n",
    "        p.data += learning_rate * p.grad\n",
    "\n",
    "    # tracking status\n",
    "    # lri.append(lre[i])\n",
    "    if epoch % 10000 ==0:\n",
    "        print(f'epoch :{epoch:7d}/{epochs:7d}: loss {loss.item():.4f}')\n",
    "    stepi.append(i)\n",
    "    lossi.append(loss.log10().item())\n",
    "\n",
    "print(lossi[-1])"
   ],
   "id": "99fafc85117ea372",
   "outputs": [
    {
     "name": "stdout",
     "output_type": "stream",
     "text": [
      "epoch :      0/ 200000: loss 1.9070\n",
      "epoch :  10000/ 200000: loss 2.2981\n",
      "epoch :  20000/ 200000: loss 2.2634\n",
      "epoch :  30000/ 200000: loss 2.2273\n",
      "epoch :  40000/ 200000: loss 2.1377\n",
      "epoch :  50000/ 200000: loss 2.4517\n",
      "epoch :  60000/ 200000: loss 2.2374\n",
      "epoch :  70000/ 200000: loss 3.0697\n",
      "epoch :  80000/ 200000: loss 2.4898\n",
      "epoch :  90000/ 200000: loss 2.8309\n",
      "epoch : 100000/ 200000: loss 2.8517\n",
      "epoch : 110000/ 200000: loss 2.0235\n",
      "epoch : 120000/ 200000: loss 2.3026\n",
      "epoch : 130000/ 200000: loss 2.0839\n",
      "epoch : 140000/ 200000: loss 2.1861\n",
      "epoch : 150000/ 200000: loss 2.3940\n",
      "epoch : 160000/ 200000: loss 1.8431\n",
      "epoch : 170000/ 200000: loss 2.1753\n",
      "epoch : 180000/ 200000: loss 1.9286\n",
      "epoch : 190000/ 200000: loss 2.3363\n",
      "0.29163113236427307\n"
     ]
    }
   ],
   "execution_count": 107
  },
  {
   "metadata": {
    "ExecuteTime": {
     "end_time": "2025-07-11T04:49:59.120125Z",
     "start_time": "2025-07-11T04:49:59.118483Z"
    }
   },
   "cell_type": "code",
   "source": "# plt.plot(lri, lossi)",
   "id": "2a870dead86ca19e",
   "outputs": [],
   "execution_count": 65
  },
  {
   "metadata": {
    "ExecuteTime": {
     "end_time": "2025-07-11T04:49:59.285916Z",
     "start_time": "2025-07-11T04:49:59.140588Z"
    }
   },
   "cell_type": "code",
   "source": "plt.plot(stepi, lossi)",
   "id": "7593deda58c1893",
   "outputs": [
    {
     "data": {
      "text/plain": [
       "[<matplotlib.lines.Line2D at 0x10ee59e50>]"
      ]
     },
     "execution_count": 66,
     "metadata": {},
     "output_type": "execute_result"
    },
    {
     "data": {
      "text/plain": [
       "<Figure size 640x480 with 1 Axes>"
      ],
      "image/png": "[encoded data removed]"
     },
     "metadata": {},
     "output_type": "display_data"
    }
   ],
   "execution_count": 66
  },
  {
   "metadata": {},
   "cell_type": "markdown",
   "source": "## Overall Training loss",
   "id": "f1202229a8cae9dd"
  },
  {
   "metadata": {
    "ExecuteTime": {
     "end_time": "2025-07-11T14:05:15.080546Z",
     "start_time": "2025-07-11T14:05:14.950965Z"
    }
   },
   "cell_type": "code",
   "source": [
    "@torch.no_grad() # decorator helps to disable gradient traking during backward pass\n",
    "def split_loss(split):\n",
    "    x,y = {\n",
    "        'train' : (Xtr,Ytr),\n",
    "        'valid' : (Xdev,Ydev),\n",
    "        'test' : (Xte,Yte),\n",
    "    }[split]\n",
    "\n",
    "    emb = C[x]\n",
    "    embcat = emb.view(emb.shape[0], -1)\n",
    "    h = torch.tanh(embcat @ W1 + b1)\n",
    "    logits = h @ W2 + b2\n",
    "    loss = F.cross_entropy(logits, y)\n",
    "    print(f'{split} loss :{loss.item()}')\n",
    "\n",
    "split_loss(\"train\")\n",
    "split_loss(\"valid\")"
   ],
   "id": "759dd1317bf84a1f",
   "outputs": [
    {
     "name": "stdout",
     "output_type": "stream",
     "text": [
      "train loss :2.1155803203582764\n",
      "valid loss :2.1565208435058594\n"
     ]
    }
   ],
   "execution_count": 118
  },
  {
   "metadata": {
    "ExecuteTime": {
     "end_time": "2025-07-11T04:50:38.117096Z",
     "start_time": "2025-07-11T04:50:38.045889Z"
    }
   },
   "cell_type": "code",
   "source": [
    "# visualize dimensions 0 and 1 of the embedding matrix C for all characters\n",
    "plt.figure(figsize=(8,8))\n",
    "plt.scatter(C[:,0].data, C[:,1].data, s=200)\n",
    "for i in range(C.shape[0]):\n",
    "    plt.text(C[i,0].item(), C[i,1].item(), itos[i], ha=\"center\", va=\"center\", color='white')\n",
    "plt.grid('minor')"
   ],
   "id": "77837dc7fac0b63",
   "outputs": [
    {
     "data": {
      "text/plain": [
       "<Figure size 800x800 with 1 Axes>"
      ],
      "image/png": "[encoded data removed]"
     },
     "metadata": {},
     "output_type": "display_data"
    }
   ],
   "execution_count": 73
  },
  {
   "metadata": {
    "ExecuteTime": {
     "end_time": "2025-07-11T14:09:10.888920Z",
     "start_time": "2025-07-11T14:09:10.869964Z"
    }
   },
   "cell_type": "code",
   "source": [
    "# sample from the model\n",
    "g = torch.Generator().manual_seed(2147483657)\n",
    "\n",
    "for _ in range(20):\n",
    "    out = []\n",
    "    # intializing with all zeros [0,0,0] (...)\n",
    "    context = [0] * block_size\n",
    "    while True:\n",
    "        # forward pass to the nerual network\n",
    "        embed = C[torch.tensor([context])] # (1, block_size, d)\n",
    "        h = torch.tanh(embed.view(1, -1) @ W1 + b1)\n",
    "        logits = h @ W2 + b2\n",
    "        probs = F.softmax(logits, dim=1)\n",
    "\n",
    "        # sampling from the distribution using multinomial\n",
    "        ix = torch.multinomial(probs, num_samples=1, generator=g)\n",
    "\n",
    "        # shifting the context window ... ---> e ==> ..e --> m\n",
    "        context = context[1:] + [ix]\n",
    "        out.append(ix.item())\n",
    "        # if the sample is special token (.) break\n",
    "        if ix ==0:\n",
    "            break\n",
    "    # decoding the output embeddings\n",
    "    print(''.join(itos[i] for i in out))\n",
    "\n",
    "\n",
    "\n"
   ],
   "id": "50d572395528b6c4",
   "outputs": [
    {
     "name": "stdout",
     "output_type": "stream",
     "text": [
      "carmahzati.\n",
      "havi.\n",
      "kimrix.\n",
      "taty.\n",
      "hacaylie.\n",
      "mahita.\n",
      "deliah.\n",
      "jarqui.\n",
      "nellara.\n",
      "chaiivon.\n",
      "leigh.\n",
      "ham.\n",
      "pori.\n",
      "quintis.\n",
      "lilei.\n",
      "jadiquoanthoniearynix.\n",
      "kaelishuat.\n",
      "emme.\n",
      "iia.\n",
      "gian.\n"
     ]
    }
   ],
   "execution_count": 120
  }
 ],
 "metadata": {
  "kernelspec": {
   "display_name": "Python 3",
   "language": "python",
   "name": "python3"
  },
  "language_info": {
   "codemirror_mode": {
    "name": "ipython",
    "version": 2
   },
   "file_extension": ".py",
   "mimetype": "text/x-python",
   "name": "python",
   "nbconvert_exporter": "python",
   "pygments_lexer": "ipython2",
   "version": "2.7.6"
  }
 },
 "nbformat": 4,
 "nbformat_minor": 5
}

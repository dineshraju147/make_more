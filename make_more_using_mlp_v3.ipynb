{
 "cells": [
  {
   "metadata": {},
   "cell_type": "markdown",
   "source": [
    "## Make_More V3\n",
    "#### Make Make_More even more powerfull\n",
    "-we encounter the lowest dev loss of 2.17\n",
    "- TO IMPROVE THE PERFORMENCE\n",
    "\n",
    "- We can observe the intial loss of our model is very high, which we need to look into\n",
    "\n"
   ],
   "id": "b9a52b674836080e"
  },
  {
   "cell_type": "code",
   "id": "initial_id",
   "metadata": {
    "collapsed": true,
    "ExecuteTime": {
     "end_time": "2025-07-16T01:07:55.980486Z",
     "start_time": "2025-07-16T01:07:53.292974Z"
    }
   },
   "source": [
    "import torch\n",
    "import torch.nn.functional as F\n",
    "import matplotlib.pyplot as plt # for making figures\n",
    "from sympy import hermite_prob\n",
    "# from Transformers.NanoGPT import vocab_size\n",
    "%matplotlib inline\n"
   ],
   "outputs": [],
   "execution_count": 4
  },
  {
   "metadata": {
    "ExecuteTime": {
     "end_time": "2025-07-16T01:07:57.526061Z",
     "start_time": "2025-07-16T01:07:57.519960Z"
    }
   },
   "cell_type": "code",
   "source": [
    "# read in all the words\n",
    "words = open('names.txt', 'r').read().splitlines()\n",
    "words[:8]"
   ],
   "id": "8a2b89a8ca48a0e",
   "outputs": [
    {
     "data": {
      "text/plain": [
       "['emma', 'olivia', 'ava', 'isabella', 'sophia', 'charlotte', 'mia', 'amelia']"
      ]
     },
     "execution_count": 5,
     "metadata": {},
     "output_type": "execute_result"
    }
   ],
   "execution_count": 5
  },
  {
   "metadata": {
    "ExecuteTime": {
     "end_time": "2025-07-16T01:08:00.794672Z",
     "start_time": "2025-07-16T01:08:00.791437Z"
    }
   },
   "cell_type": "code",
   "source": "len(words)",
   "id": "b3d1244c552afb16",
   "outputs": [
    {
     "data": {
      "text/plain": [
       "32033"
      ]
     },
     "execution_count": 6,
     "metadata": {},
     "output_type": "execute_result"
    }
   ],
   "execution_count": 6
  },
  {
   "metadata": {
    "ExecuteTime": {
     "end_time": "2025-07-16T01:08:02.275093Z",
     "start_time": "2025-07-16T01:08:02.268882Z"
    }
   },
   "cell_type": "code",
   "source": [
    "# build the vocabulary of characters and mappings to/from integers\n",
    "chars = sorted(list(set(''.join(words))))\n",
    "stoi = {s:i+1 for i,s in enumerate(chars)}\n",
    "stoi['.'] = 0\n",
    "itos = {i:s for s,i in stoi.items()}\n",
    "vocab_size = len(itos)\n",
    "print(itos)\n",
    "print(vocab_size)"
   ],
   "id": "fb6993bd6009f0fb",
   "outputs": [
    {
     "name": "stdout",
     "output_type": "stream",
     "text": [
      "{1: 'a', 2: 'b', 3: 'c', 4: 'd', 5: 'e', 6: 'f', 7: 'g', 8: 'h', 9: 'i', 10: 'j', 11: 'k', 12: 'l', 13: 'm', 14: 'n', 15: 'o', 16: 'p', 17: 'q', 18: 'r', 19: 's', 20: 't', 21: 'u', 22: 'v', 23: 'w', 24: 'x', 25: 'y', 26: 'z', 0: '.'}\n",
      "27\n"
     ]
    }
   ],
   "execution_count": 7
  },
  {
   "metadata": {
    "ExecuteTime": {
     "end_time": "2025-07-16T01:08:04.701057Z",
     "start_time": "2025-07-16T01:08:04.515249Z"
    }
   },
   "cell_type": "code",
   "source": [
    "block_size = 3\n",
    "context = [0] * block_size\n",
    "\n",
    "\n",
    "def build_datasets(words):\n",
    "    X , Y = [] , []\n",
    "\n",
    "    for w in words:\n",
    "        # print(w)\n",
    "        context = [0] * block_size\n",
    "        for ch in w + \".\":\n",
    "            ix = stoi[ch]\n",
    "            X.append(context)\n",
    "            Y.append(ix)\n",
    "            # print(\"X:\" , X ,  \"Y:\" , Y)\n",
    "            # print(''.join(itos[i] for i in context), '--->', itos[ix])\n",
    "            context = context[1:] + [ix]\n",
    "\n",
    "    X = torch.tensor(X)\n",
    "    Y = torch.tensor(Y)\n",
    "    return X, Y\n",
    "\n",
    "import random\n",
    "random.seed(0)\n",
    "random.shuffle(words)\n",
    "n1 = int(0.8*len(words))\n",
    "n2 = int(0.9*len(words))\n",
    "\n",
    "Xtr, Ytr = build_datasets(words[:n1])  # 80% of Xtr\n",
    "Xdev, Ydev = build_datasets(words[n1:n2]) # 10%\n",
    "Xte, Yte = build_datasets(words[n2:]) # 10%\n",
    "\n",
    "print(f'Xtr: {Xtr.shape}, Ytr: {Ytr.shape}')\n",
    "print(f'Xdev: {Xdev.shape}, Ydev: {Ydev.shape}')\n",
    "print(f'Xte: {Xte.shape}, Yte: {Yte.shape}')\n",
    "\n"
   ],
   "id": "e9260b3b47607686",
   "outputs": [
    {
     "name": "stdout",
     "output_type": "stream",
     "text": [
      "Xtr: torch.Size([182594, 3]), Ytr: torch.Size([182594])\n",
      "Xdev: torch.Size([22846, 3]), Ydev: torch.Size([22846])\n",
      "Xte: torch.Size([22706, 3]), Yte: torch.Size([22706])\n"
     ]
    }
   ],
   "execution_count": 8
  },
  {
   "metadata": {
    "ExecuteTime": {
     "end_time": "2025-07-16T01:08:07.695234Z",
     "start_time": "2025-07-16T01:08:07.692294Z"
    }
   },
   "cell_type": "code",
   "source": "print(Xtr.size(), Ytr.size(), Xte.size(), Yte.size())",
   "id": "bea1a2397270b17e",
   "outputs": [
    {
     "name": "stdout",
     "output_type": "stream",
     "text": [
      "torch.Size([182594, 3]) torch.Size([182594]) torch.Size([22706, 3]) torch.Size([22706])\n"
     ]
    }
   ],
   "execution_count": 9
  },
  {
   "metadata": {},
   "cell_type": "markdown",
   "source": "<img src=\"Transformers/images/img.png\">",
   "id": "2d50be005633e714"
  },
  {
   "metadata": {
    "ExecuteTime": {
     "end_time": "2025-07-11T14:14:09.533291Z",
     "start_time": "2025-07-11T14:14:09.531286Z"
    }
   },
   "cell_type": "code",
   "source": "# ------------- > lets make this more cleaner",
   "id": "317137c8d8f5d059",
   "outputs": [],
   "execution_count": 12
  },
  {
   "metadata": {},
   "cell_type": "markdown",
   "source": [
    "<div >\n",
    "<p>In order to decreace the intial loss we need to make our intial forward pass logits close to zero. </br>\n",
    "To make it possible, (reduce the loss): lets try to reduce W2 to some fator of 0.01\n",
    " </br>\n",
    " and b1 to zeros </p>\n",
    "</div>"
   ],
   "id": "e26b3b983ea2a365"
  },
  {
   "metadata": {
    "ExecuteTime": {
     "end_time": "2025-07-16T12:12:06.144719Z",
     "start_time": "2025-07-16T12:12:06.087427Z"
    }
   },
   "cell_type": "code",
   "source": [
    "n_embd = 10  # dimensionality of the character level embedding vectors\n",
    "n_hidden = 200  # number of neurons in the hidden layer\n",
    "\n",
    "g = torch.Generator().manual_seed(2323938434709) # for reproducibility\n",
    "# look up table --> 2-10 (increasing embedding dim)\n",
    "C = torch.rand(vocab_size, n_embd,                      generator=g)\n",
    "# here (5/3)/(sqrt(fan_nodes))--- kaiming init for this weight initialization\n",
    "W1 = torch.randn((n_embd*block_size, n_hidden),         generator=g)* (5/3)/((n_embd*block_size)**0.5)\n",
    "# b1 = torch.randn(n_hidden,                              generator=g)*0.01\n",
    "W2 = torch.randn((n_hidden, vocab_size),                generator=g)* 0.01\n",
    "b2 = torch.randn(vocab_size,                            generator=g)* 0\n",
    "\n",
    "# Batch Norm parameters\n",
    "#--------------------------\n",
    "bngain = torch.ones(1, n_hidden)\n",
    "bnbias = torch.zeros(1, n_hidden)\n",
    "#---------->># for single example input in inference----\n",
    "bnmean_running = torch.zeros(1, n_hidden)\n",
    "bnstd_running = torch.zeros(1, n_hidden)\n",
    "# --------------------------------------------\n",
    "\n",
    "parameters = [C, W1, W2, b2, bngain, bnbias]\n",
    "print(f\"Total_parameters :{sum(p.nelement() for p in parameters)}\") # total num of parameters\n",
    "\n",
    "for p in parameters:\\\n",
    "    p.requires_grad = True"
   ],
   "id": "b272a4435a68a140",
   "outputs": [
    {
     "name": "stdout",
     "output_type": "stream",
     "text": [
      "Total_parameters :12097\n"
     ]
    }
   ],
   "execution_count": 24
  },
  {
   "metadata": {
    "ExecuteTime": {
     "end_time": "2025-07-16T12:13:07.705154Z",
     "start_time": "2025-07-16T12:12:10.189823Z"
    }
   },
   "cell_type": "code",
   "source": [
    "# Training a Neural Net\n",
    "epochs = 200000\n",
    "batch_size = 32\n",
    "lossi = []\n",
    "\n",
    "for epoch in range(epochs):\n",
    "    # Mini_batch Constructor------------------------\n",
    "    ix = torch.randint(0, Xtr.shape[0], (batch_size, ), generator=g)\n",
    "    Xb, Yb = Xtr[ix], Ytr[ix] # batch X and Y\n",
    "\n",
    "    # Forward pass ------------------------------------\n",
    "    emb = C[Xb]  # (32, 3, 10)\n",
    "    embcat = emb.view(emb.shape[0], -1) # concatenate vectors\n",
    "\n",
    "    # Linear Layer before applying Non-linearity ------------\n",
    "    hpreat = embcat @ W1 + b1 # hiden layer pre activations\n",
    "\n",
    "    # Batch Normalization Layer ------------------------\n",
    "    bnmeani = hpreat.mean(0, keepdim= True)\n",
    "    bnstdi = hpreat.std(0, keepdim=True)\n",
    "    hpreat = bngain *(hpreat - bnmeani)/bnstdi + bnbias # we can add E for zero division error\n",
    "\n",
    "    # Traking  bnmean and bnstd for inference ---------\n",
    "    with torch.no_grad():\n",
    "        bnmean_running = 0.999* bnmean_running + 0.001*bnmeani\n",
    "        bnstd_running = 0.999* bnstd_running + 0.001*bnstdi\n",
    "\n",
    "    # Non- Linearity ---------------------------------------\n",
    "    h = torch.tanh(hpreat)  # hidden layer\n",
    "    logits = h @ W2 + b2 # output layer\n",
    "    loss = F.cross_entropy(logits, Yb) # loss function\n",
    "\n",
    "    # Backward Pass ----------------------------------------\n",
    "    for p in parameters:\n",
    "        p.grad = None\n",
    "    loss.backward()\n",
    "\n",
    "    # update parameters --------------------------------------\n",
    "    # lr = lrs[i]\n",
    "    lr = 0.1 if epoch < 100000 else 0.01\n",
    "    for p in parameters:\n",
    "        learning_rate = -lr\n",
    "        p.data += learning_rate * p.grad\n",
    "\n",
    "    # tracking status -----------------------------------------\n",
    "    # lri.append(lre[i])\n",
    "    if epoch % 10000 ==0:\n",
    "        print(f'epoch :{epoch:7d}/{epochs:7d}: loss {loss.item():.4f}')\n",
    "    #\n",
    "    lossi.append(loss.log10().item())\n",
    "\n"
   ],
   "id": "99fafc85117ea372",
   "outputs": [
    {
     "name": "stdout",
     "output_type": "stream",
     "text": [
      "epoch :      0/ 200000: loss 3.3202\n",
      "epoch :  10000/ 200000: loss 2.0612\n",
      "epoch :  20000/ 200000: loss 2.1664\n",
      "epoch :  30000/ 200000: loss 2.0565\n",
      "epoch :  40000/ 200000: loss 2.1349\n",
      "epoch :  50000/ 200000: loss 1.8589\n",
      "epoch :  60000/ 200000: loss 2.1425\n",
      "epoch :  70000/ 200000: loss 2.4628\n",
      "epoch :  80000/ 200000: loss 2.3139\n",
      "epoch :  90000/ 200000: loss 2.0566\n",
      "epoch : 100000/ 200000: loss 2.3483\n",
      "epoch : 110000/ 200000: loss 1.8476\n",
      "epoch : 120000/ 200000: loss 1.8305\n",
      "epoch : 130000/ 200000: loss 1.7499\n",
      "epoch : 140000/ 200000: loss 1.9101\n",
      "epoch : 150000/ 200000: loss 1.8092\n",
      "epoch : 160000/ 200000: loss 1.9461\n",
      "epoch : 170000/ 200000: loss 1.7959\n",
      "epoch : 180000/ 200000: loss 2.5107\n",
      "epoch : 190000/ 200000: loss 1.9701\n"
     ]
    }
   ],
   "execution_count": 25
  },
  {
   "metadata": {
    "ExecuteTime": {
     "end_time": "2025-07-16T01:30:40.759541Z",
     "start_time": "2025-07-16T01:30:40.676923Z"
    }
   },
   "cell_type": "code",
   "source": [
    "plt.figure(figsize=(20,10))\n",
    "plt.title('Identifying the dead cells from tanh (layer)')\n",
    "plt.imshow(h.abs() > 0.99, cmap=\"grey\", interpolation=\"nearest\");"
   ],
   "id": "5d71ff71b23d122f",
   "outputs": [
    {
     "data": {
      "text/plain": [
       "<Figure size 2000x1000 with 1 Axes>"
      ],
      "image/png": "[encoded data removed]"
     },
     "metadata": {},
     "output_type": "display_data"
    }
   ],
   "execution_count": 18
  },
  {
   "metadata": {
    "ExecuteTime": {
     "end_time": "2025-07-16T01:30:18.032253Z",
     "start_time": "2025-07-16T01:30:17.902292Z"
    }
   },
   "cell_type": "code",
   "source": "plt.hist(h.view(-1).tolist(), bins=50);",
   "id": "7221960ed2458515",
   "outputs": [
    {
     "data": {
      "text/plain": [
       "<Figure size 640x480 with 1 Axes>"
      ],
      "image/png": "[encoded data removed]"
     },
     "metadata": {},
     "output_type": "display_data"
    }
   ],
   "execution_count": 16
  },
  {
   "metadata": {
    "ExecuteTime": {
     "end_time": "2025-07-16T01:30:24.092720Z",
     "start_time": "2025-07-16T01:30:24.018969Z"
    }
   },
   "cell_type": "code",
   "source": "plt.hist(hpreat.view(-1).tolist(),  bins=50);",
   "id": "69b87e22370ebe01",
   "outputs": [
    {
     "data": {
      "text/plain": [
       "<Figure size 640x480 with 1 Axes>"
      ],
      "image/png": "[encoded data removed]"
     },
     "metadata": {},
     "output_type": "display_data"
    }
   ],
   "execution_count": 17
  },
  {
   "metadata": {
    "ExecuteTime": {
     "end_time": "2025-07-11T15:24:58.573629Z",
     "start_time": "2025-07-11T15:24:58.284039Z"
    }
   },
   "cell_type": "code",
   "source": "plt.plot(lossi)",
   "id": "7593deda58c1893",
   "outputs": [
    {
     "data": {
      "text/plain": [
       "[<matplotlib.lines.Line2D at 0x11732b110>]"
      ]
     },
     "execution_count": 23,
     "metadata": {},
     "output_type": "execute_result"
    },
    {
     "data": {
      "text/plain": [
       "<Figure size 640x480 with 1 Axes>"
      ],
      "image/png": "[encoded data removed]"
     },
     "metadata": {},
     "output_type": "display_data"
    }
   ],
   "execution_count": 23
  },
  {
   "metadata": {},
   "cell_type": "markdown",
   "source": "## Overall Training loss",
   "id": "f1202229a8cae9dd"
  },
  {
   "metadata": {
    "ExecuteTime": {
     "end_time": "2025-07-16T01:38:56.281620Z",
     "start_time": "2025-07-16T01:38:56.055159Z"
    }
   },
   "cell_type": "code",
   "source": [
    "@torch.no_grad() # decorator helps to disable gradient traking during backward pass\n",
    "def split_loss(split):\n",
    "    x,y = {\n",
    "        'train' : (Xtr,Ytr),\n",
    "        'valid' : (Xdev,Ydev),\n",
    "        'test' : (Xte,Yte),\n",
    "    }[split]\n",
    "\n",
    "    emb = C[x]\n",
    "    embcat = emb.view(emb.shape[0], -1)\n",
    "    hpreat = embcat @ W1 + b1\n",
    "    hpreat = bngain *(hpreat - bnmean_running)/bnstd_running + bnbias\n",
    "    h = torch.tanh(hpreat)\n",
    "    logits = h @ W2 + b2\n",
    "    loss = F.cross_entropy(logits, y)\n",
    "    print(f'{split} loss :{loss.item()}')\n",
    "\n",
    "split_loss(\"train\")\n",
    "split_loss(\"valid\")"
   ],
   "id": "759dd1317bf84a1f",
   "outputs": [
    {
     "name": "stdout",
     "output_type": "stream",
     "text": [
      "train loss :2.069355010986328\n",
      "valid loss :2.1184942722320557\n"
     ]
    }
   ],
   "execution_count": 22
  },
  {
   "metadata": {
    "ExecuteTime": {
     "end_time": "2025-07-16T01:11:34.676932Z",
     "start_time": "2025-07-16T01:11:34.670851Z"
    }
   },
   "cell_type": "code",
   "source": [
    "\n",
    "# original:\n",
    "# train 2.1245384216308594\n",
    "# val 2.168196439743042\n",
    "\n",
    "# fix softmax confidently wrong:\n",
    "#\n",
    "# train loss :2.0749599933624268\n",
    "# valid loss :2.131558418273926\n",
    "#\n",
    "# fix tanh layer too saturated at init:\n",
    "# train loss :2.069749116897583\n",
    "# valid loss :2.118492603302002\n",
    "#\n",
    "# use semi-principled \"kaiming init\" instead of hacky init:\n",
    "# train 2.0376641750335693\n",
    "# val 2.106989622116089\n",
    "#\n",
    "# add batch norm layer\n",
    "# train loss :2.069355010986328\n",
    "#valid loss :2.1184942722320557\n"
   ],
   "id": "3b459843b6d2312",
   "outputs": [],
   "execution_count": 15
  },
  {
   "metadata": {
    "ExecuteTime": {
     "end_time": "2025-07-11T14:14:09.604580Z",
     "start_time": "2025-07-11T04:50:38.045889Z"
    }
   },
   "cell_type": "code",
   "source": [
    "# visualize dimensions 0 and 1 of the embedding matrix C for all characters\n",
    "plt.figure(figsize=(8,8))\n",
    "plt.scatter(C[:,0].data, C[:,1].data, s=200)\n",
    "for i in range(C.shape[0]):\n",
    "    plt.text(C[i,0].item(), C[i,1].item(), itos[i], ha=\"center\", va=\"center\", color='white')\n",
    "plt.grid('minor')"
   ],
   "id": "77837dc7fac0b63",
   "outputs": [
    {
     "data": {
      "text/plain": [
       "<Figure size 800x800 with 1 Axes>"
      ],
      "image/png": "[encoded data removed]"
     },
     "metadata": {},
     "output_type": "display_data"
    }
   ],
   "execution_count": 73
  },
  {
   "metadata": {
    "ExecuteTime": {
     "end_time": "2025-07-11T14:14:09.605276Z",
     "start_time": "2025-07-11T14:09:10.869964Z"
    }
   },
   "cell_type": "code",
   "source": [
    "# sample from the model\n",
    "g = torch.Generator().manual_seed(2147483657)\n",
    "\n",
    "for _ in range(20):\n",
    "    out = []\n",
    "    # intializing with all zeros [0,0,0] (...)\n",
    "    context = [0] * block_size\n",
    "    while True:\n",
    "        # forward pass to the nerual network\n",
    "        embed = C[torch.tensor([context])] # (1, block_size, d)\n",
    "        h = torch.tanh(embed.view(1, -1) @ W1 + b1)\n",
    "        logits = h @ W2 + b2\n",
    "        probs = F.softmax(logits, dim=1)\n",
    "\n",
    "        # sampling from the distribution using multinomial\n",
    "        ix = torch.multinomial(probs, num_samples=1, generator=g)\n",
    "\n",
    "        # shifting the context window ... ---> e ==> ..e --> m\n",
    "        context = context[1:] + [ix]\n",
    "        out.append(ix.item())\n",
    "        # if the sample is special token (.) break\n",
    "        if ix ==0:\n",
    "            break\n",
    "    # decoding the output embeddings\n",
    "    print(''.join(itos[i] for i in out))\n",
    "\n",
    "\n",
    "\n"
   ],
   "id": "50d572395528b6c4",
   "outputs": [
    {
     "name": "stdout",
     "output_type": "stream",
     "text": [
      "carmahzati.\n",
      "havi.\n",
      "kimrix.\n",
      "taty.\n",
      "hacaylie.\n",
      "mahita.\n",
      "deliah.\n",
      "jarqui.\n",
      "nellara.\n",
      "chaiivon.\n",
      "leigh.\n",
      "ham.\n",
      "pori.\n",
      "quintis.\n",
      "lilei.\n",
      "jadiquoanthoniearynix.\n",
      "kaelishuat.\n",
      "emme.\n",
      "iia.\n",
      "gian.\n"
     ]
    }
   ],
   "execution_count": 120
  }
 ],
 "metadata": {
  "kernelspec": {
   "display_name": "Python 3",
   "language": "python",
   "name": "python3"
  },
  "language_info": {
   "codemirror_mode": {
    "name": "ipython",
    "version": 2
   },
   "file_extension": ".py",
   "mimetype": "text/x-python",
   "name": "python",
   "nbconvert_exporter": "python",
   "pygments_lexer": "ipython2",
   "version": "2.7.6"
  }
 },
 "nbformat": 4,
 "nbformat_minor": 5
}

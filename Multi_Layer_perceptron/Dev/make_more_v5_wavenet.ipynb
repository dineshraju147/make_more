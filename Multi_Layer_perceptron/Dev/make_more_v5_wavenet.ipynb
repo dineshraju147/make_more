{
 "cells": [
  {
   "metadata": {},
   "cell_type": "markdown",
   "source": "### 📘 Make More v5.0 — WaveNet-Inspired Modular Neural Language Model",
   "id": "b9a52b674836080e"
  },
  {
   "metadata": {},
   "cell_type": "markdown",
   "source": [
    "#### 🔍 Overview\n",
    "In version 5.0, the architecture is redesigned to resemble WaveNet, a powerful autoregressive model originally developed for audio generation. This version focuses on composability and hierarchical processing using small, modular components."
   ],
   "id": "71e60c0cec603079"
  },
  {
   "metadata": {},
   "cell_type": "markdown",
   "source": [
    "#### Key Enhancements:\n",
    "🔧 Introduced modular building blocks (Embedding, FlattenConsecutive, Sequential) similar to PyTorch's nn.Module.\n",
    "\n",
    "🧠 Adopted WaveNet-inspired input batching: instead of flattening the context window, inputs are processed in structured groups (e.g., bigrams).\n",
    "\n",
    "📊 Improved loss curve visualization by averaging over 1000-iteration blocks for clarity."
   ],
   "id": "3ea788b2523fca8f"
  },
  {
   "metadata": {},
   "cell_type": "markdown",
   "source": [
    "\n",
    "🌊 WaveNet-Inspired Architecture\n",
    "Instead of a traditional MLP taking flattened inputs, this version introduces structured grouping, simulating 1D convolution over character embeddings:\n",
    "``` python\n",
    "# Input Shape Example:\n",
    "e = torch.randn(4, 4, 20)  # 4 examples, 4 context tokens, each with 20-dimensional embedding\n",
    "\n",
    "# Forward transformation example:\n",
    "out = e @ torch.randn(20, 200) + torch.randn(200)\n",
    "```\n",
    "This simulates a stack of linear layers processing local patterns (like a bigram or trigram) before global flattening.\n",
    "\n",
    "Motivation:\n",
    "Preserves temporal order and local structure before combining into global features.\n",
    "\n",
    "Mimics dilated convolutional behavior of WaveNet."
   ],
   "id": "4c7950363d54cb2c"
  },
  {
   "metadata": {},
   "cell_type": "markdown",
   "source": "<img src=\"Transformers/images/img.png\">",
   "id": "552cfefe1397f276"
  },
  {
   "metadata": {},
   "cell_type": "markdown",
   "source": [
    "📉 Loss Visualization\n",
    "Instead of plotting raw loss per step (which is noisy), the training loss is smoothed by averaging over blocks of 1000 steps:\n",
    "\n",
    "Why this matters:\n",
    "Easier to interpret long-term trends.\n",
    "\n",
    "Highlights overfitting, underfitting, or learning plateaus more clearly.\n",
    "\n"
   ],
   "id": "f1f29dae907e0961"
  },
  {
   "metadata": {},
   "cell_type": "markdown",
   "source": [
    "### Summary of Improvements\n",
    "\n",
    "| Feature                | Description                                                               |\n",
    "| ---------------------- | ------------------------------------------------------------------------- |\n",
    "| 🧱 Modular Blocks      | Custom classes for embedding, sequential logic, and structured reshaping  |\n",
    "| 🌊 WaveNet-style Input | Restructured input as grouped bigrams/trigrams instead of full flattening |\n",
    "| 🔬 Hierarchical Depth  | Supports stacking multiple `FlattenConsecutive` + Linear layers           |\n",
    "| 📉 Loss Visualization  | Improved clarity using averaged loss over intervals                       |\n"
   ],
   "id": "4f646651b4928e27"
  },
  {
   "cell_type": "code",
   "id": "initial_id",
   "metadata": {
    "collapsed": true,
    "ExecuteTime": {
     "end_time": "2025-07-20T23:14:40.198581Z",
     "start_time": "2025-07-20T23:14:39.211515Z"
    }
   },
   "source": [
    "\n",
    "import torch\n",
    "import torch.nn.functional as F\n",
    "import matplotlib.pyplot as plt # for making figures\n",
    "from networkx.classes import non_edges\n",
    "from sympy import hermite_prob\n",
    "from torch import nn\n",
    "# from Transformers.NanoGPT import vocab_size\n",
    "%matplotlib inline\n"
   ],
   "outputs": [],
   "execution_count": 1
  },
  {
   "metadata": {
    "ExecuteTime": {
     "end_time": "2025-07-20T23:14:40.270308Z",
     "start_time": "2025-07-20T23:14:40.265887Z"
    }
   },
   "cell_type": "code",
   "source": [
    "# read in all the words\n",
    "words = open('../names.txt', 'r').read().splitlines()\n",
    "words[:8]"
   ],
   "id": "8a2b89a8ca48a0e",
   "outputs": [
    {
     "data": {
      "text/plain": [
       "['emma', 'olivia', 'ava', 'isabella', 'sophia', 'charlotte', 'mia', 'amelia']"
      ]
     },
     "execution_count": 2,
     "metadata": {},
     "output_type": "execute_result"
    }
   ],
   "execution_count": 2
  },
  {
   "metadata": {
    "ExecuteTime": {
     "end_time": "2025-07-20T23:14:40.296740Z",
     "start_time": "2025-07-20T23:14:40.294266Z"
    }
   },
   "cell_type": "code",
   "source": "len(words)",
   "id": "b3d1244c552afb16",
   "outputs": [
    {
     "data": {
      "text/plain": [
       "32033"
      ]
     },
     "execution_count": 3,
     "metadata": {},
     "output_type": "execute_result"
    }
   ],
   "execution_count": 3
  },
  {
   "metadata": {
    "ExecuteTime": {
     "end_time": "2025-07-20T23:14:40.318409Z",
     "start_time": "2025-07-20T23:14:40.314451Z"
    }
   },
   "cell_type": "code",
   "source": [
    "# build the vocabulary of characters and mappings to/from integers\n",
    "chars = sorted(list(set(''.join(words))))\n",
    "stoi = {s:i+1 for i,s in enumerate(chars)}\n",
    "stoi['.'] = 0\n",
    "itos = {i:s for s,i in stoi.items()}\n",
    "vocab_size = len(itos)\n",
    "print(itos)\n",
    "print(vocab_size)"
   ],
   "id": "fb6993bd6009f0fb",
   "outputs": [
    {
     "name": "stdout",
     "output_type": "stream",
     "text": [
      "{1: 'a', 2: 'b', 3: 'c', 4: 'd', 5: 'e', 6: 'f', 7: 'g', 8: 'h', 9: 'i', 10: 'j', 11: 'k', 12: 'l', 13: 'm', 14: 'n', 15: 'o', 16: 'p', 17: 'q', 18: 'r', 19: 's', 20: 't', 21: 'u', 22: 'v', 23: 'w', 24: 'x', 25: 'y', 26: 'z', 0: '.'}\n",
      "27\n"
     ]
    }
   ],
   "execution_count": 4
  },
  {
   "metadata": {
    "ExecuteTime": {
     "end_time": "2025-07-20T23:14:40.590504Z",
     "start_time": "2025-07-20T23:14:40.328949Z"
    }
   },
   "cell_type": "code",
   "source": [
    "# Building the Dataset\n",
    "block_size = 8\n",
    "context = [0] * block_size\n",
    "\n",
    "\n",
    "def build_datasets(words):\n",
    "    X , Y = [] , []\n",
    "\n",
    "    for w in words:\n",
    "        # print(w)\n",
    "        context = [0] * block_size\n",
    "        for ch in w + \".\":\n",
    "            ix = stoi[ch]\n",
    "            X.append(context)\n",
    "            Y.append(ix)\n",
    "            # print(\"X:\" , X ,  \"Y:\" , Y)\n",
    "            # print(''.join(itos[i] for i in context), '--->', itos[ix])\n",
    "            context = context[1:] + [ix]\n",
    "\n",
    "    X = torch.tensor(X)\n",
    "    Y = torch.tensor(Y)\n",
    "    return X, Y\n",
    "\n",
    "import random\n",
    "random.seed(0)\n",
    "random.shuffle(words)\n",
    "n1 = int(0.8*len(words))\n",
    "n2 = int(0.9*len(words))\n",
    "\n",
    "Xtr, Ytr = build_datasets(words[:n1])  # 80% of Xtr\n",
    "Xdev, Ydev = build_datasets(words[n1:n2]) # 10%\n",
    "Xte, Yte = build_datasets(words[n2:]) # 10%\n",
    "\n",
    "print(f'Xtr: {Xtr.shape}, Ytr: {Ytr.shape}')\n",
    "print(f'Xdev: {Xdev.shape}, Ydev: {Ydev.shape}')\n",
    "print(f'Xte: {Xte.shape}, Yte: {Yte.shape}')\n",
    "\n"
   ],
   "id": "e9260b3b47607686",
   "outputs": [
    {
     "name": "stdout",
     "output_type": "stream",
     "text": [
      "Xtr: torch.Size([182594, 8]), Ytr: torch.Size([182594])\n",
      "Xdev: torch.Size([22846, 8]), Ydev: torch.Size([22846])\n",
      "Xte: torch.Size([22706, 8]), Yte: torch.Size([22706])\n"
     ]
    }
   ],
   "execution_count": 5
  },
  {
   "metadata": {
    "ExecuteTime": {
     "end_time": "2025-07-20T23:14:40.604668Z",
     "start_time": "2025-07-20T23:14:40.598159Z"
    }
   },
   "cell_type": "code",
   "source": [
    "for x,y in zip(Xtr[:20], Ytr[:20]):\n",
    "  print(''.join(itos[ix.item()] for ix in x), '-->', itos[y.item()])"
   ],
   "id": "896313a3156e7422",
   "outputs": [
    {
     "name": "stdout",
     "output_type": "stream",
     "text": [
      "........ --> s\n",
      ".......s --> a\n",
      "......sa --> n\n",
      ".....san --> i\n",
      "....sani --> i\n",
      "...sanii --> .\n",
      "........ --> r\n",
      ".......r --> h\n",
      "......rh --> y\n",
      ".....rhy --> s\n",
      "....rhys --> o\n",
      "...rhyso --> n\n",
      "..rhyson --> .\n",
      "........ --> l\n",
      ".......l --> i\n",
      "......li --> d\n",
      ".....lid --> a\n",
      "....lida --> .\n",
      "........ --> g\n",
      ".......g --> e\n"
     ]
    }
   ],
   "execution_count": 6
  },
  {
   "metadata": {
    "ExecuteTime": {
     "end_time": "2025-07-20T23:14:40.620694Z",
     "start_time": "2025-07-20T23:14:40.614597Z"
    }
   },
   "cell_type": "code",
   "source": [
    "#---------------------------------Building Blocks for reusing the classes ---------------------------------------------------\n",
    "# -------Linear Layer -------------------------------------------------------------------------------------------------------\n",
    "class Linear:\n",
    "\n",
    "    def __init__(self, in_features, out_features, bias=True):\n",
    "        self.weight = torch.randn((in_features, out_features), generator=g)/ (in_features)**0.5\n",
    "        self.bias = torch.zeros(out_features) if bias else None\n",
    "\n",
    "    def __call__(self, x):\n",
    "        self.out = x @ self.weight\n",
    "        if self.bias is not None:\n",
    "            self.out += self.bias\n",
    "        return self.out\n",
    "\n",
    "    def parameters(self):\n",
    "        return [self.weight] + ([] if self.bias is None else [self.bias])\n",
    "# -------Batch Norm Layer ---------------------------------------------------------------------------------------------------\n",
    "\n",
    "class BatchNorm1d:\n",
    "    def __init__(self, dim, eps=1e-5, momentum=0.1):\n",
    "        self.eps = eps\n",
    "        self.momentum = momentum\n",
    "        self.training =True\n",
    "        # parameters (which are trained )\n",
    "        self.gamma = torch.ones(dim)\n",
    "        self.beta = torch.zeros(dim)\n",
    "        # buffers (trainned with momentum updating)\n",
    "        self.running_mean = torch.zeros(dim)\n",
    "        self.running_var = torch.ones(dim)\n",
    "\n",
    "    def __call__(self, x):\n",
    "        # calculate forward pass\n",
    "        if self.training: # note pytorch expects (N, C, L) , L is sequence length, but we implement (N, L, C)\n",
    "            if x.ndim == 2:\n",
    "                dim = 0\n",
    "            elif x.ndim == 3:\n",
    "                dim = (0,1)\n",
    "            xmean = x.mean(dim, keepdim=True)\n",
    "            xvar = x.var(dim, keepdim=True)\n",
    "        else:\n",
    "            xmean = self.running_mean\n",
    "            xvar = self.running_var\n",
    "\n",
    "        xhat = (x - xmean) / torch.sqrt(xvar + self.eps) # normalize to unit variance\n",
    "        self.out = self.gamma * xhat + self.beta\n",
    "        # update the buffers\n",
    "        if self.training:\n",
    "          with torch.no_grad():\n",
    "            self.running_mean = (1 - self.momentum) * self.running_mean + self.momentum * xmean\n",
    "            self.running_var = (1 - self.momentum) * self.running_var + self.momentum * xvar\n",
    "        return self.out\n",
    "\n",
    "    def parameters(self):\n",
    "        return [self.gamma, self.beta]\n",
    "# ---- TanH layer =----------------------------------------------------------------------------------------------------------\n",
    "class Tanh:\n",
    "  def __call__(self, x):\n",
    "    self.out = torch.tanh(x)\n",
    "    return self.out\n",
    "  def parameters(self):\n",
    "    return []\n",
    "  # -----Embedding Layer ----------------------------------------------------------------------------------------------------\n",
    "\n",
    "class Embedding:\n",
    "    def __init__(self, num_embeddings, embedding_dim):\n",
    "        self.weight = torch.randn((num_embeddings, embedding_dim))\n",
    "\n",
    "    def __call__(self, IX):\n",
    "        self.out = self.weight[IX]\n",
    "        return self.out\n",
    "\n",
    "    def parameters(self):\n",
    "        return [self.weight]\n",
    "\n",
    "#----------_Flatten----------------------------------------------------------------------------------------------------------\n",
    "class FlattenConsecutive:\n",
    "    def __init__(self, n):\n",
    "        self.n = n\n",
    "\n",
    "    def __call__(self, x):\n",
    "        B, T, C = x.shape\n",
    "        x = x.view(B, T//self.n, C*self.n)\n",
    "\n",
    "        if x.shape[1] ==  1:\n",
    "            x = x.squeeze(1)\n",
    "        self.out = x\n",
    "\n",
    "        return self.out\n",
    "\n",
    "    def parameters(self):\n",
    "        return []\n",
    "#----------Sequential -----------------------------------\n",
    "class Sequential:\n",
    "    def __init__(self, layers):\n",
    "        self.layers = layers\n",
    "\n",
    "    def __call__(self, x):\n",
    "        for layer in self.layers:\n",
    "            x = layer(x)\n",
    "        self.out = x\n",
    "        return self.out\n",
    "\n",
    "    def parameters(self):\n",
    "        return [p for layer in self.layers for p in layer.parameters()]\n",
    "\n"
   ],
   "id": "bec362c8e1bf3f49",
   "outputs": [],
   "execution_count": 7
  },
  {
   "metadata": {
    "ExecuteTime": {
     "end_time": "2025-07-20T23:14:40.651825Z",
     "start_time": "2025-07-20T23:14:40.644224Z"
    }
   },
   "cell_type": "code",
   "source": "torch.manual_seed(42); # seed rng for reproducibility",
   "id": "58a5e16b71ed76af",
   "outputs": [],
   "execution_count": 8
  },
  {
   "metadata": {
    "ExecuteTime": {
     "end_time": "2025-07-20T23:20:31.575112Z",
     "start_time": "2025-07-20T23:20:31.564544Z"
    }
   },
   "cell_type": "code",
   "source": [
    "n_embd = 24 # the dimensionality of the character embedding vectors\n",
    "n_hidden = 128  # the number of neurons in the hidden layer of the MLP we use this 68 to maintain same parameters from before network\n",
    "tuple_size = 2\n",
    "g = torch.Generator().manual_seed(2147434123517) # for reproducibility\n",
    "\n",
    "# ---------------------------Network-------------------\n",
    "model = Sequential([\n",
    "    Embedding(vocab_size, n_embd),\n",
    "    FlattenConsecutive(tuple_size), Linear(n_embd * tuple_size, n_hidden, bias=False), BatchNorm1d(n_hidden), Tanh(),\n",
    "    FlattenConsecutive(tuple_size), Linear(n_hidden * tuple_size, n_hidden, bias=False), BatchNorm1d(n_hidden), Tanh(),\n",
    "    FlattenConsecutive(tuple_size), Linear(n_hidden * tuple_size, n_hidden, bias=False), BatchNorm1d(n_hidden), Tanh(),\n",
    "    Linear(n_hidden, vocab_size)\n",
    "])\n",
    "\n",
    "with torch.no_grad():\n",
    "    # making the last linear layer less confident\n",
    "    model.layers[-1].weight *=0.1\n",
    "\n",
    "#_--------------Parameters------------------------\n",
    "parameters = model.parameters()\n",
    "print(sum(p.nelement() for p in parameters))\n",
    "\n",
    "for p in parameters:\n",
    "    p.requires_grad = True\n",
    "\n"
   ],
   "id": "58f4ed615a7037e7",
   "outputs": [
    {
     "name": "stdout",
     "output_type": "stream",
     "text": [
      "76579\n"
     ]
    }
   ],
   "execution_count": 10
  },
  {
   "metadata": {
    "ExecuteTime": {
     "end_time": "2025-07-20T23:14:40.750496Z",
     "start_time": "2025-07-20T02:26:16.556544Z"
    }
   },
   "cell_type": "code",
   "source": [
    "# lets check the shapes inside our network for just four examples\n",
    "ix = torch.randint(0, Xtr.shape[0], (4,))\n",
    "Xb, Yb = Xtr[ix], Ytr[ix]\n",
    "logits = model(Xb)\n",
    "print(Xb.shape)\n",
    "Xb"
   ],
   "id": "9b80f2183a7f1777",
   "outputs": [
    {
     "name": "stdout",
     "output_type": "stream",
     "text": [
      "torch.Size([4, 8])\n"
     ]
    },
    {
     "data": {
      "text/plain": [
       "tensor([[ 0,  0, 10, 21, 10,  8,  1, 18],\n",
       "        [ 0,  0,  0,  0,  0,  0,  0,  0],\n",
       "        [ 0,  0,  0,  0,  2, 18, 25, 15],\n",
       "        [ 0,  0,  0,  1, 22,  9, 20,  1]])"
      ]
     },
     "execution_count": 202,
     "metadata": {},
     "output_type": "execute_result"
    }
   ],
   "execution_count": 202
  },
  {
   "metadata": {
    "ExecuteTime": {
     "end_time": "2025-07-20T23:14:40.751228Z",
     "start_time": "2025-07-20T02:26:18.574871Z"
    }
   },
   "cell_type": "code",
   "source": [
    "for layer in model.layers:\n",
    "    print(layer.__class__.__name__, \":\" , tuple(layer.out.shape))\n",
    "\n",
    "\n"
   ],
   "id": "8d16eeb5dcaa3129",
   "outputs": [
    {
     "name": "stdout",
     "output_type": "stream",
     "text": [
      "Embedding : (4, 8, 24)\n",
      "FlattenConsecutive : (4, 4, 48)\n",
      "Linear : (4, 4, 128)\n",
      "BatchNorm1d : (4, 4, 128)\n",
      "Tanh : (4, 4, 128)\n",
      "FlattenConsecutive : (4, 2, 256)\n",
      "Linear : (4, 2, 128)\n",
      "BatchNorm1d : (4, 2, 128)\n",
      "Tanh : (4, 2, 128)\n",
      "FlattenConsecutive : (4, 256)\n",
      "Linear : (4, 128)\n",
      "BatchNorm1d : (4, 128)\n",
      "Tanh : (4, 128)\n",
      "Linear : (4, 27)\n"
     ]
    }
   ],
   "execution_count": 203
  },
  {
   "metadata": {
    "ExecuteTime": {
     "end_time": "2025-07-20T23:14:40.751474Z",
     "start_time": "2025-07-20T02:26:20.256993Z"
    }
   },
   "cell_type": "code",
   "source": [
    "# Fixing BatchNorm 1d BUG: current implementation\n",
    "e = torch.randn(32, 4, 68)\n",
    "emean = e.mean(0, keepdim=True)  # 1, 4, 68\n",
    "evar = e.var(0, keepdim=True) # 1, 4, 68\n",
    "ehat = (e - emean) / torch.sqrt(evar + 1e-5) # 32 , 4, 68\n",
    "ehat.shape"
   ],
   "id": "74ef6949962c1dde",
   "outputs": [
    {
     "data": {
      "text/plain": [
       "torch.Size([32, 4, 68])"
      ]
     },
     "execution_count": 204,
     "metadata": {},
     "output_type": "execute_result"
    }
   ],
   "execution_count": 204
  },
  {
   "metadata": {
    "ExecuteTime": {
     "end_time": "2025-07-20T23:14:40.752932Z",
     "start_time": "2025-07-20T02:26:21.454097Z"
    }
   },
   "cell_type": "code",
   "source": "model.layers[3].running_mean.shape # this is the running mean",
   "id": "edc16be479c743dc",
   "outputs": [
    {
     "data": {
      "text/plain": [
       "torch.Size([1, 1, 128])"
      ]
     },
     "execution_count": 205,
     "metadata": {},
     "output_type": "execute_result"
    }
   ],
   "execution_count": 205
  },
  {
   "metadata": {
    "ExecuteTime": {
     "end_time": "2025-07-20T23:14:40.753131Z",
     "start_time": "2025-07-20T02:10:43.986594Z"
    }
   },
   "cell_type": "code",
   "source": [
    "# Fixing BatchNorm 1d BUG: updating implementation\n",
    "e = torch.randn(32, 4, 68)\n",
    "emean = e.mean((0,1), keepdim=True)  # 1, 4, 68\n",
    "evar = e.var((0,1), keepdim=True) # 1, 4, 68\n",
    "ehat = (e - emean) / torch.sqrt(evar + 1e-5) # 32 , 4, 68\n",
    "evar.shape"
   ],
   "id": "54747c9901a1edd3",
   "outputs": [
    {
     "data": {
      "text/plain": [
       "torch.Size([1, 1, 68])"
      ]
     },
     "execution_count": 191,
     "metadata": {},
     "output_type": "execute_result"
    }
   ],
   "execution_count": 191
  },
  {
   "metadata": {
    "ExecuteTime": {
     "end_time": "2025-07-20T23:14:40.753283Z",
     "start_time": "2025-07-20T02:04:44.252926Z"
    }
   },
   "cell_type": "code",
   "source": "",
   "id": "8f02bff839d4b72",
   "outputs": [
    {
     "data": {
      "text/plain": [
       "torch.Size([1, 4, 68])"
      ]
     },
     "execution_count": 182,
     "metadata": {},
     "output_type": "execute_result"
    }
   ],
   "execution_count": 182
  },
  {
   "metadata": {
    "ExecuteTime": {
     "end_time": "2025-07-20T23:14:40.753731Z",
     "start_time": "2025-07-20T02:26:23.421741Z"
    }
   },
   "cell_type": "code",
   "source": [
    "output_layer_1 = model.layers[0].out.shape\n",
    "print(f'output_layer_1: {output_layer_1}')\n",
    "output_layer_2 = model.layers[1].out.shape\n",
    "print(f'output_layer_2: {output_layer_2}')\n",
    "output_layer_3 = model.layers[2].out.shape\n",
    "print(f'output_layer_1: {output_layer_3}')\n"
   ],
   "id": "eacc4040abe3f312",
   "outputs": [
    {
     "name": "stdout",
     "output_type": "stream",
     "text": [
      "output_layer_1: torch.Size([4, 8, 24])\n",
      "output_layer_2: torch.Size([4, 4, 48])\n",
      "output_layer_1: torch.Size([4, 4, 128])\n"
     ]
    }
   ],
   "execution_count": 206
  },
  {
   "metadata": {
    "ExecuteTime": {
     "end_time": "2025-07-20T23:14:40.754072Z",
     "start_time": "2025-07-20T02:26:25.078880Z"
    }
   },
   "cell_type": "code",
   "source": [
    "# torch matrix multiplication is powerfull so that we can multiply with more dim\n",
    "# it considers only the last layer\n",
    "# before dim are consider as a batch\n",
    "(torch.randn(4, 5, 6, 80) @ torch.randn(80, 200) + torch.randn(200)).shape"
   ],
   "id": "1696489f1a36d8ae",
   "outputs": [
    {
     "data": {
      "text/plain": [
       "torch.Size([4, 5, 6, 200])"
      ]
     },
     "execution_count": 207,
     "metadata": {},
     "output_type": "execute_result"
    }
   ],
   "execution_count": 207
  },
  {
   "metadata": {},
   "cell_type": "code",
   "outputs": [],
   "execution_count": null,
   "source": [
    "# this is very usefull to introduce a batch dim in our example inorder to pass it as biagram into our wave net\n",
    "# 1 2 3 4 5 6 7 8\n",
    "# instead of flatten it as full 8 dim and pass it through network\n",
    "# we introduce a batches\n",
    "# (1 2) (3 4) (5 6) (7 8)\n",
    "#   .     .     .     .\n",
    "#      .     .     .\n",
    "#         .     .\n",
    "#           out\n"
   ],
   "id": "bc17eeb271aead2a"
  },
  {
   "metadata": {
    "ExecuteTime": {
     "end_time": "2025-07-20T23:14:40.754665Z",
     "start_time": "2025-07-20T02:26:26.792737Z"
    }
   },
   "cell_type": "code",
   "source": [
    "# inorder to obtain this architechture\n",
    "# 4 examples 4 batches (tuples ) each one with 10 dim\n",
    "(torch.randn(4, 4, 20) @ torch.randn(20, 200) + torch.randn(200)).shape\n"
   ],
   "id": "737e7d83722b7197",
   "outputs": [
    {
     "data": {
      "text/plain": [
       "torch.Size([4, 4, 200])"
      ]
     },
     "execution_count": 208,
     "metadata": {},
     "output_type": "execute_result"
    }
   ],
   "execution_count": 208
  },
  {
   "metadata": {
    "ExecuteTime": {
     "end_time": "2025-07-20T23:14:40.754882Z",
     "start_time": "2025-07-20T02:26:28.016345Z"
    }
   },
   "cell_type": "code",
   "source": [
    "# so inorder to achive this input matrix of [4 4 20], we need to modify out flatten class:\n",
    "# for now it is considering as :\n",
    "e = torch.randn(4, 8, 10)\n",
    "print(e.view(4, -1).shape)\n",
    "# but we need a tuples of biagram as this :\n",
    "# (1 2) (3 4) (5 6) (7 8)\n",
    "# How can we do this ------(As we know the step index slicing in python)\n",
    "explicit = torch.cat([e[:, ::2, :], e[:, 1::2, :]], dim = 2)\n",
    "explicit.shape"
   ],
   "id": "672c0cc8f761346b",
   "outputs": [
    {
     "name": "stdout",
     "output_type": "stream",
     "text": [
      "torch.Size([4, 80])\n"
     ]
    },
    {
     "data": {
      "text/plain": [
       "torch.Size([4, 4, 20])"
      ]
     },
     "execution_count": 209,
     "metadata": {},
     "output_type": "execute_result"
    }
   ],
   "execution_count": 209
  },
  {
   "metadata": {
    "ExecuteTime": {
     "end_time": "2025-07-20T23:14:40.755136Z",
     "start_time": "2025-07-20T02:26:29.279691Z"
    }
   },
   "cell_type": "code",
   "source": [
    "# this can be done by view also this same values we want\n",
    "(e.view(4,4, 20) == explicit).all()"
   ],
   "id": "ca2781252a37ea69",
   "outputs": [
    {
     "data": {
      "text/plain": [
       "tensor(True)"
      ]
     },
     "execution_count": 210,
     "metadata": {},
     "output_type": "execute_result"
    }
   ],
   "execution_count": 210
  },
  {
   "metadata": {
    "ExecuteTime": {
     "end_time": "2025-07-20T23:14:40.755906Z",
     "start_time": "2025-07-20T02:26:31.701941Z"
    }
   },
   "cell_type": "code",
   "source": [
    "# same optimization as last time\n",
    "max_steps = 200000\n",
    "batch_size = 32\n",
    "lossi = []\n",
    "ud = []\n",
    "\n",
    "for i in range(max_steps):\n",
    "\n",
    "  # minibatch construct\n",
    "  ix = torch.randint(0, Xtr.shape[0], (batch_size,), generator=g)\n",
    "  Xb, Yb = Xtr[ix], Ytr[ix] # batch X,Y\n",
    "\n",
    "  # forward pass\n",
    "  logits = model(Xb)\n",
    "  loss = F.cross_entropy(logits, Yb) # loss function\n",
    "\n",
    "  # backward pass\n",
    "  for layer in layers:\n",
    "    layer.out.retain_grad() # AFTER_DEBUG: would take out retain_graph\n",
    "  for p in parameters:\n",
    "    p.grad = None\n",
    "  loss.backward()\n",
    "\n",
    "  # update\n",
    "  lr = 0.1 if i < 150000 else 0.01 # step learning rate decay\n",
    "  for p in parameters:\n",
    "    p.data += -lr * p.grad\n",
    "\n",
    "  # track stats\n",
    "  if i % 10000 == 0: # print every once in a while\n",
    "    print(f'{i:7d}/{max_steps:7d}: {loss.item():.4f}')\n",
    "  lossi.append(loss.log10().item())\n",
    "  with torch.no_grad():\n",
    "    ud.append([((lr*p.grad).std() / p.data.std()).log10().item() for p in parameters])\n",
    "\n",
    "  # if i >= 1000:\n",
    "  #   break # AFTER_DEBUG: would take out obviously to run full optimization # AFTER_DEBUG: would take out obviously to run full optimization"
   ],
   "id": "b2bb2436ad7ebfd1",
   "outputs": [
    {
     "name": "stdout",
     "output_type": "stream",
     "text": [
      "      0/ 200000: 3.3839\n",
      "  10000/ 200000: 2.5415\n",
      "  20000/ 200000: 2.2401\n",
      "  30000/ 200000: 1.7244\n",
      "  40000/ 200000: 2.2586\n",
      "  50000/ 200000: 1.6624\n",
      "  60000/ 200000: 2.0625\n",
      "  70000/ 200000: 1.9313\n",
      "  80000/ 200000: 1.9292\n",
      "  90000/ 200000: 1.9625\n",
      " 100000/ 200000: 1.8004\n",
      " 110000/ 200000: 1.8551\n",
      " 120000/ 200000: 1.7652\n",
      " 130000/ 200000: 1.8207\n",
      " 140000/ 200000: 1.7594\n",
      " 150000/ 200000: 1.7241\n",
      " 160000/ 200000: 1.8107\n",
      " 170000/ 200000: 2.0684\n",
      " 180000/ 200000: 2.0806\n",
      " 190000/ 200000: 1.3434\n"
     ]
    }
   ],
   "execution_count": 211
  },
  {
   "metadata": {
    "ExecuteTime": {
     "end_time": "2025-07-20T23:14:40.757403Z",
     "start_time": "2025-07-20T02:25:18.503650Z"
    }
   },
   "cell_type": "code",
   "source": "plt.plot(torch.tensor(lossi).view(-1, 1000).mean(1))",
   "id": "d9197a342c79ac2b",
   "outputs": [
    {
     "data": {
      "text/plain": [
       "[<matplotlib.lines.Line2D at 0x13e732ad0>]"
      ]
     },
     "execution_count": 196,
     "metadata": {},
     "output_type": "execute_result"
    },
    {
     "data": {
      "text/plain": [
       "<Figure size 640x480 with 1 Axes>"
      ],
      "image/png": "[encoded data removed]"
     },
     "metadata": {},
     "output_type": "display_data"
    }
   ],
   "execution_count": 196
  },
  {
   "metadata": {
    "ExecuteTime": {
     "end_time": "2025-07-20T23:14:40.759266Z",
     "start_time": "2025-07-20T02:25:20.903642Z"
    }
   },
   "cell_type": "code",
   "source": [
    "# put layers into eval mode (needed for batchnorm especially)\n",
    "for layer in model.layers:\n",
    "  layer.training = False"
   ],
   "id": "810865fc20bff73f",
   "outputs": [],
   "execution_count": 197
  },
  {
   "metadata": {
    "ExecuteTime": {
     "end_time": "2025-07-20T23:14:40.759820Z",
     "start_time": "2025-07-20T02:26:04.513454Z"
    }
   },
   "cell_type": "code",
   "source": [
    "# evaluate the loss\n",
    "@torch.no_grad() # this decorator disables gradient tracking inside pytorch\n",
    "def split_loss(split):\n",
    "  x,y = {\n",
    "    'train': (Xtr, Ytr),\n",
    "    'val': (Xdev, Ydev),\n",
    "    'test': (Xte, Yte),\n",
    "  }[split]\n",
    "  logits = model(x)\n",
    "  loss = F.cross_entropy(logits, y)\n",
    "  print(split, loss.item())\n",
    "\n",
    "split_loss('train')\n",
    "split_loss('val')"
   ],
   "id": "5afa69937ad8dc98",
   "outputs": [
    {
     "name": "stdout",
     "output_type": "stream",
     "text": [
      "train 1.910601258277893\n",
      "val 2.0137016773223877\n"
     ]
    }
   ],
   "execution_count": 199
  },
  {
   "metadata": {},
   "cell_type": "markdown",
   "source": [
    "## 📊 Baseline vs. Hierarchical Model Performance\n",
    "\n",
    "### 🔹 Baseline Model (Context Size = 8)\n",
    "- **Training Loss**: `2.0024`\n",
    "- **Validation Loss**: `~2.0`\n",
    "\n",
    "---\n",
    "\n",
    "### 🔸 After Hierarchical Structure (WaveNet-inspired)\n",
    "- **Training Loss**: `1.9393`\n",
    "- **Validation Loss**: `2.0189`\n",
    "\n",
    "---\n",
    "\n",
    "### 🔧 With `hlayer = 68` and `dim = 10`\n",
    "- **Training Loss**: `1.9393`\n",
    "- **Validation Loss**: `2.0189`\n"
   ],
   "id": "d6c1a0b2b83f0c5d"
  },
  {
   "metadata": {},
   "cell_type": "markdown",
   "source": [
    "## performance log\n",
    "- original (3 character context + 200 hidden neurons, 12K params): train 2.058, val 2.105\n",
    "- context: 3 -> 8 (22K params): train 1.918, val 2.027"
   ],
   "id": "148c4e8bfa324cb9"
  },
  {
   "metadata": {
    "ExecuteTime": {
     "end_time": "2025-07-20T00:44:29.236134Z",
     "start_time": "2025-07-20T00:44:29.212096Z"
    }
   },
   "cell_type": "code",
   "source": [
    "# sample from the model\n",
    "g = torch.Generator().manual_seed(2147483657)\n",
    "\n",
    "for _ in range(20):\n",
    "    out = []\n",
    "    # intializing with all zeros [0,0,0] (...)\n",
    "    context = [0] * block_size\n",
    "    while True:\n",
    "        # forward pass to the nerual network\n",
    "        logits = model(torch.tensor([context]))\n",
    "        probs = F.softmax(logits, dim=1)\n",
    "\n",
    "        # sampling from the distribution using multinomial\n",
    "        ix = torch.multinomial(probs, num_samples=1, generator=g)\n",
    "\n",
    "        # shifting the context window ... ---> e ==> ..e --> m\n",
    "        context = context[1:] + [ix]\n",
    "        out.append(ix.item())\n",
    "        # if the sample is special token (.) break\n",
    "        if ix ==0:\n",
    "            break\n",
    "    # decoding the output embeddings\n",
    "    print(''.join(itos[i] for i in out))"
   ],
   "id": "50d572395528b6c4",
   "outputs": [
    {
     "name": "stdout",
     "output_type": "stream",
     "text": [
      "carman.\n",
      "ambrie.\n",
      "khismi.\n",
      "xilah.\n",
      "khalani.\n",
      "emmahnee.\n",
      "dellyn.\n",
      "jarqui.\n",
      "nermari.\n",
      "chaiir.\n",
      "kaleigh.\n",
      "hamoni.\n",
      "jaquinn.\n",
      "sulina.\n",
      "livabi.\n",
      "wazella.\n",
      "jarynn.\n",
      "jaxeelin.\n",
      "demed.\n",
      "ediia.\n"
     ]
    }
   ],
   "execution_count": 90
  },
  {
   "metadata": {},
   "cell_type": "markdown",
   "source": [
    "### 📦 Next Steps for v6.0\n",
    "\n",
    "- 📈 Add residual connections to emulate full WaveNet\n",
    "\n",
    "- 🌀 Implement dilated convolutions for larger receptive fields\n",
    "\n",
    "- 🧠 Incorporate attention or gating for dynamic feature control\n",
    "\n",
    "- 🧪 Experiment with dropout or layer normalization for regularization\n",
    "\n"
   ],
   "id": "d46ea85ee017212b"
  }
 ],
 "metadata": {
  "kernelspec": {
   "display_name": "Python 3",
   "language": "python",
   "name": "python3"
  },
  "language_info": {
   "codemirror_mode": {
    "name": "ipython",
    "version": 2
   },
   "file_extension": ".py",
   "mimetype": "text/x-python",
   "name": "python",
   "nbconvert_exporter": "python",
   "pygments_lexer": "ipython2",
   "version": "2.7.6"
  }
 },
 "nbformat": 4,
 "nbformat_minor": 5
}

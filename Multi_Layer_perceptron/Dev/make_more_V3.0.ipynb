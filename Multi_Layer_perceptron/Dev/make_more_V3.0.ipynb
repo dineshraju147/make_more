{
 "cells": [
  {
   "metadata": {},
   "cell_type": "markdown",
   "source": "### Make More v3 — Deeper MLP with Batch Normalization and Kaiming Init",
   "id": "b9a52b674836080e"
  },
  {
   "metadata": {},
   "cell_type": "markdown",
   "source": [
    "#### Initial Loss Problem\n",
    "At the start of training, the model produces extremely high loss values, due to large initial logits. This happens because:\n",
    "\n",
    "The output layer's logits are unbounded and initialized with high variance.\n",
    "- This leads to large values passed into softmax → extremely confident incorrect predictions → very high cross-entropy loss."
   ],
   "id": "5fddd221e5c84bb"
  },
  {
   "cell_type": "code",
   "id": "initial_id",
   "metadata": {
    "collapsed": true,
    "ExecuteTime": {
     "end_time": "2025-07-20T21:13:02.919101Z",
     "start_time": "2025-07-20T21:13:02.916198Z"
    }
   },
   "source": [
    "import torch\n",
    "import torch.nn.functional as F\n",
    "import matplotlib.pyplot as plt # for making figures\n",
    "%matplotlib inline\n"
   ],
   "outputs": [],
   "execution_count": 3
  },
  {
   "metadata": {
    "ExecuteTime": {
     "end_time": "2025-07-20T21:13:02.936553Z",
     "start_time": "2025-07-20T21:13:02.931202Z"
    }
   },
   "cell_type": "code",
   "source": [
    "# read in all the words\n",
    "words = open('../names.txt', 'r').read().splitlines()\n",
    "words[:8]"
   ],
   "id": "8a2b89a8ca48a0e",
   "outputs": [
    {
     "data": {
      "text/plain": [
       "['emma', 'olivia', 'ava', 'isabella', 'sophia', 'charlotte', 'mia', 'amelia']"
      ]
     },
     "execution_count": 4,
     "metadata": {},
     "output_type": "execute_result"
    }
   ],
   "execution_count": 4
  },
  {
   "metadata": {
    "ExecuteTime": {
     "end_time": "2025-07-20T21:13:02.966886Z",
     "start_time": "2025-07-20T21:13:02.964137Z"
    }
   },
   "cell_type": "code",
   "source": "len(words)",
   "id": "b3d1244c552afb16",
   "outputs": [
    {
     "data": {
      "text/plain": [
       "32033"
      ]
     },
     "execution_count": 5,
     "metadata": {},
     "output_type": "execute_result"
    }
   ],
   "execution_count": 5
  },
  {
   "metadata": {
    "ExecuteTime": {
     "end_time": "2025-07-20T21:13:02.998116Z",
     "start_time": "2025-07-20T21:13:02.993716Z"
    }
   },
   "cell_type": "code",
   "source": [
    "# build the vocabulary of characters and mappings to/from integers\n",
    "chars = sorted(list(set(''.join(words))))\n",
    "stoi = {s:i+1 for i,s in enumerate(chars)}\n",
    "stoi['.'] = 0\n",
    "itos = {i:s for s,i in stoi.items()}\n",
    "vocab_size = len(itos)\n",
    "print(itos)\n",
    "print(vocab_size)"
   ],
   "id": "fb6993bd6009f0fb",
   "outputs": [
    {
     "name": "stdout",
     "output_type": "stream",
     "text": [
      "{1: 'a', 2: 'b', 3: 'c', 4: 'd', 5: 'e', 6: 'f', 7: 'g', 8: 'h', 9: 'i', 10: 'j', 11: 'k', 12: 'l', 13: 'm', 14: 'n', 15: 'o', 16: 'p', 17: 'q', 18: 'r', 19: 's', 20: 't', 21: 'u', 22: 'v', 23: 'w', 24: 'x', 25: 'y', 26: 'z', 0: '.'}\n",
      "27\n"
     ]
    }
   ],
   "execution_count": 6
  },
  {
   "metadata": {
    "ExecuteTime": {
     "end_time": "2025-07-20T21:13:03.198836Z",
     "start_time": "2025-07-20T21:13:03.020175Z"
    }
   },
   "cell_type": "code",
   "source": [
    "block_size = 3\n",
    "context = [0] * block_size\n",
    "\n",
    "\n",
    "def build_datasets(words):\n",
    "    X , Y = [] , []\n",
    "\n",
    "    for w in words:\n",
    "        # print(w)\n",
    "        context = [0] * block_size\n",
    "        for ch in w + \".\":\n",
    "            ix = stoi[ch]\n",
    "            X.append(context)\n",
    "            Y.append(ix)\n",
    "            # print(\"X:\" , X ,  \"Y:\" , Y)\n",
    "            # print(''.join(itos[i] for i in context), '--->', itos[ix])\n",
    "            context = context[1:] + [ix]\n",
    "\n",
    "    X = torch.tensor(X)\n",
    "    Y = torch.tensor(Y)\n",
    "    return X, Y\n",
    "\n",
    "import random\n",
    "random.seed(0)\n",
    "random.shuffle(words)\n",
    "n1 = int(0.8*len(words))\n",
    "n2 = int(0.9*len(words))\n",
    "\n",
    "Xtr, Ytr = build_datasets(words[:n1])  # 80% of Xtr\n",
    "Xdev, Ydev = build_datasets(words[n1:n2]) # 10%\n",
    "Xte, Yte = build_datasets(words[n2:]) # 10%\n",
    "\n",
    "print(f'Xtr: {Xtr.shape}, Ytr: {Ytr.shape}')\n",
    "print(f'Xdev: {Xdev.shape}, Ydev: {Ydev.shape}')\n",
    "print(f'Xte: {Xte.shape}, Yte: {Yte.shape}')\n",
    "\n"
   ],
   "id": "e9260b3b47607686",
   "outputs": [
    {
     "name": "stdout",
     "output_type": "stream",
     "text": [
      "Xtr: torch.Size([182594, 3]), Ytr: torch.Size([182594])\n",
      "Xdev: torch.Size([22846, 3]), Ydev: torch.Size([22846])\n",
      "Xte: torch.Size([22706, 3]), Yte: torch.Size([22706])\n"
     ]
    }
   ],
   "execution_count": 7
  },
  {
   "metadata": {
    "ExecuteTime": {
     "end_time": "2025-07-20T21:13:03.219340Z",
     "start_time": "2025-07-20T21:13:03.216827Z"
    }
   },
   "cell_type": "code",
   "source": "print(Xtr.size(), Ytr.size(), Xte.size(), Yte.size())",
   "id": "bea1a2397270b17e",
   "outputs": [
    {
     "name": "stdout",
     "output_type": "stream",
     "text": [
      "torch.Size([182594, 3]) torch.Size([182594]) torch.Size([22706, 3]) torch.Size([22706])\n"
     ]
    }
   ],
   "execution_count": 8
  },
  {
   "metadata": {},
   "cell_type": "markdown",
   "source": "<img src=\"Transformers/images/img.png\">",
   "id": "2d50be005633e714"
  },
  {
   "metadata": {},
   "cell_type": "markdown",
   "source": [
    "### Solution: One Way- Stabilize Initial Logits\n",
    "\n",
    "To fix this:\n",
    "\n",
    "```python\n",
    "# Reduce scale of W2\n",
    "W2 = torch.randn((n_hidden, vocab_size), generator=g) * 0.01\n",
    "\n",
    "# Set b1 to zeros\n",
    "b1 = torch.zeros(n_hidden)\n",
    "```\n",
    "- In order to decrease the initial loss we need to make our initial forward pass logits close to zero.\n",
    "- To make this possible (reduce the loss): we reduce W2 to a factor of 0.01 and initialize b1 to all zeros.\n",
    " This makes early outputs less extreme, aiding smoother training.</p> </div>"
   ],
   "id": "e26b3b983ea2a365"
  },
  {
   "metadata": {},
   "cell_type": "markdown",
   "source": [
    "### Kaiming Initialization\n",
    "Used\n",
    "```python\n",
    "W1 = torch.randn((n_embd*block_size, n_hidden), generator=g) * (5/3) / ((n_embd*block_size)**0.5)\n",
    "```\n",
    "This is a variant of Kaiming (He) initialization, which scales the weights according to the number of input connections (fan_in) to preserve signal variance through layers.\n",
    "\n",
    "The general formula for Kaiming init is:\n",
    "``` python\n",
    "std = gain / sqrt(fan_in)\n",
    "```\n",
    "Where:\n",
    "\n",
    "- fan_in is the number of input connections to the neuron\n",
    "\n",
    "- gain depends on the activation function used\n",
    "\n",
    "\n",
    "Gain for tanh Activation\n",
    "For tanh activation, the recommended gain is 5/3, derived based on preserving the variance of activations through the nonlinear transformation.\n",
    "\n",
    "#### Reference Paper\n",
    "[Delving Deep into Rectifiers: Surpassing Human-Level Performance on ImageNet Classification](https://arxiv.org/abs/1502.01852)"
   ],
   "id": "64a1a979806f91b1"
  },
  {
   "metadata": {},
   "cell_type": "markdown",
   "source": [
    "### Batch Normalization\n",
    "Implemented **batch normalization** to stabilize the hidden layer before applying non-linearity. This helps reduce internal covariate shift and leads to faster, more stable training.\n",
    "```python\n",
    "bngain = torch.ones(1, n_hidden)\n",
    "bnbias = torch.zeros(1, n_hidden)\n",
    "```\n",
    "During training, the hidden layer activations hpreat are normalized like this:\n",
    "``` python\n",
    "bnmeani = hpreat.mean(0, keepdim=True)\n",
    "bnstdi = hpreat.std(0, keepdim=True)\n",
    "hpreat = bngain * (hpreat - bnmeani) / bnstdi + bnbias\n",
    "```"
   ],
   "id": "bdaa0653b348edd1"
  },
  {
   "metadata": {
    "ExecuteTime": {
     "end_time": "2025-07-20T21:13:03.247019Z",
     "start_time": "2025-07-20T21:13:03.235368Z"
    }
   },
   "cell_type": "code",
   "source": [
    "n_embd = 10  # dimensionality of the character level embedding vectors\n",
    "n_hidden = 200  # number of neurons in the hidden layer\n",
    "\n",
    "g = torch.Generator().manual_seed(2323938434709) # for reproducibility\n",
    "# look up table --> 2-10 (increasing embedding dim)\n",
    "C = torch.rand(vocab_size, n_embd,                      generator=g)\n",
    "# here (5/3)/(sqrt(fan_nodes))--- kaiming init for this weight initialization\n",
    "W1 = torch.randn((n_embd*block_size, n_hidden),         generator=g)* (5/3)/((n_embd*block_size)**0.5)\n",
    "# b1 = torch.randn(n_hidden,                              generator=g)*0.01\n",
    "W2 = torch.randn((n_hidden, vocab_size),                generator=g)* 0.01\n",
    "b2 = torch.randn(vocab_size,                            generator=g)* 0\n",
    "\n",
    "# Batch Norm parameters\n",
    "#--------------------------\n",
    "bngain = torch.ones(1, n_hidden)\n",
    "bnbias = torch.zeros(1, n_hidden)\n",
    "#---------->># for single example input in inference----\n",
    "bnmean_running = torch.zeros(1, n_hidden)\n",
    "bnstd_running = torch.zeros(1, n_hidden)\n",
    "# --------------------------------------------\n",
    "\n",
    "parameters = [C, W1, W2, b2, bngain, bnbias]\n",
    "print(f\"Total_parameters :{sum(p.nelement() for p in parameters)}\") # total num of parameters\n",
    "\n",
    "for p in parameters:\n",
    "    p.requires_grad = True"
   ],
   "id": "b272a4435a68a140",
   "outputs": [
    {
     "name": "stdout",
     "output_type": "stream",
     "text": [
      "Total_parameters :12097\n"
     ]
    }
   ],
   "execution_count": 9
  },
  {
   "metadata": {
    "ExecuteTime": {
     "end_time": "2025-07-20T21:14:32.665774Z",
     "start_time": "2025-07-20T21:13:32.924871Z"
    }
   },
   "cell_type": "code",
   "source": [
    "# Training a Neural Net\n",
    "epochs = 200000\n",
    "batch_size = 32\n",
    "lossi = []\n",
    "\n",
    "for epoch in range(epochs):\n",
    "    # Mini_batch Constructor------------------------\n",
    "    ix = torch.randint(0, Xtr.shape[0], (batch_size, ), generator=g)\n",
    "    Xb, Yb = Xtr[ix], Ytr[ix] # batch X and Y\n",
    "\n",
    "    # Forward pass ------------------------------------\n",
    "    emb = C[Xb]  # (32, 3, 10)\n",
    "    embcat = emb.view(emb.shape[0], -1) # concatenate vectors\n",
    "\n",
    "    # Linear Layer before applying Non-linearity ------------\n",
    "    hpreat = embcat @ W1 #+b1 # hiden layer pre activations\n",
    "\n",
    "    # Batch Normalization Layer ------------------------\n",
    "    bnmeani = hpreat.mean(0, keepdim= True)\n",
    "    bnstdi = hpreat.std(0, keepdim=True)\n",
    "    hpreat = bngain *(hpreat - bnmeani)/bnstdi + bnbias # we can add E for zero division error\n",
    "\n",
    "    # Traking  bnmean and bnstd for inference ---------\n",
    "    with torch.no_grad():\n",
    "        bnmean_running = 0.999* bnmean_running + 0.001*bnmeani\n",
    "        bnstd_running = 0.999* bnstd_running + 0.001*bnstdi\n",
    "\n",
    "    # Non- Linearity ---------------------------------------\n",
    "    h = torch.tanh(hpreat)  # hidden layer\n",
    "    logits = h @ W2 + b2 # output layer\n",
    "    loss = F.cross_entropy(logits, Yb) # loss function\n",
    "\n",
    "    # Backward Pass ----------------------------------------\n",
    "    for p in parameters:\n",
    "        p.grad = None\n",
    "    loss.backward()\n",
    "\n",
    "    # update parameters --------------------------------------\n",
    "    # lr = lrs[i]\n",
    "    lr = 0.1 if epoch < 100000 else 0.01\n",
    "    for p in parameters:\n",
    "        learning_rate = -lr\n",
    "        p.data += learning_rate * p.grad\n",
    "\n",
    "    # tracking status -----------------------------------------\n",
    "    # lri.append(lre[i])\n",
    "    if epoch % 10000 ==0:\n",
    "        print(f'epoch :{epoch:7d}/{epochs:7d}: loss {loss.item():.4f}')\n",
    "    #\n",
    "    lossi.append(loss.log10().item())\n",
    "\n"
   ],
   "id": "99fafc85117ea372",
   "outputs": [
    {
     "name": "stdout",
     "output_type": "stream",
     "text": [
      "epoch :      0/ 200000: loss 3.2824\n",
      "epoch :  10000/ 200000: loss 2.5701\n",
      "epoch :  20000/ 200000: loss 2.4154\n",
      "epoch :  30000/ 200000: loss 2.4425\n",
      "epoch :  40000/ 200000: loss 1.9790\n",
      "epoch :  50000/ 200000: loss 2.4864\n",
      "epoch :  60000/ 200000: loss 1.8767\n",
      "epoch :  70000/ 200000: loss 1.8811\n",
      "epoch :  80000/ 200000: loss 2.1519\n",
      "epoch :  90000/ 200000: loss 2.2956\n",
      "epoch : 100000/ 200000: loss 2.2290\n",
      "epoch : 110000/ 200000: loss 1.9589\n",
      "epoch : 120000/ 200000: loss 2.3025\n",
      "epoch : 130000/ 200000: loss 1.5771\n",
      "epoch : 140000/ 200000: loss 2.0039\n",
      "epoch : 150000/ 200000: loss 2.1351\n",
      "epoch : 160000/ 200000: loss 1.9827\n",
      "epoch : 170000/ 200000: loss 1.6170\n",
      "epoch : 180000/ 200000: loss 2.0604\n",
      "epoch : 190000/ 200000: loss 1.8893\n"
     ]
    }
   ],
   "execution_count": 11
  },
  {
   "metadata": {},
   "cell_type": "markdown",
   "source": [
    "---\n",
    "#### Why Track Running Mean and Std?\n",
    "During inference (e.g., generating one name at a time), we no longer have a batch to compute batch statistics from. So we use running estimates of mean and standard deviation collected during training.\n",
    "\n",
    "To do this, we maintain:\n",
    "``` python\n",
    "bnmean_running = torch.zeros(1, n_hidden)\n",
    "bnstd_running  = torch.ones(1, n_hidden)\n",
    "```\n",
    "And update them during training like this (inside the training loop):\n",
    "``` python\n",
    "bnmean_running = 0.999 * bnmean_running + 0.001 * bnmeani\n",
    "bnstd_running  = 0.999 * bnstd_running  + 0.001 * bnstdi\n",
    "```\n",
    "This is exponential moving average (EMA), where:\n",
    "\n",
    "0.999 is the decay rate (you keep most of the previous value)\n",
    "\n",
    "0.001 is the update rate from the current batch\n",
    "\n"
   ],
   "id": "44e84c7dfb7e76b1"
  },
  {
   "metadata": {},
   "cell_type": "markdown",
   "source": [
    "#### Two Ways to Track Running Stats\n",
    "Method 1: Track Inside Training Loop (Recommended)\n",
    "- Update running statistics on each minibatch, during training\n",
    "\n",
    "Method 2: Compute After Training (One Pass Over Full Training Set)\n",
    "- If you forgot to track running stats, you can compute them once after training by running the model over the entire training dataset and accumulating the mean and std."
   ],
   "id": "101e77e454ad2b6d"
  },
  {
   "metadata": {},
   "cell_type": "markdown",
   "source": [
    "---\n",
    "\n",
    "## 🧠 Visualizing Dead Neurons in `tanh` Layer\n",
    "\n",
    "The following plot helps **identify \"dead cells\" or inactive neurons** in the network after applying the `tanh` activation function:\n",
    "\n",
    "\n",
    "What This Plot Shows\n",
    "- Each row corresponds to a different input sample (minibatch).\n",
    "\n",
    "- Each column corresponds to a different neuron in the hidden layer.\n",
    "\n",
    "- The values plotted are boolean: True (white) if |tanh(h)| > 0.99, False (black) otherwise.\n",
    "\n",
    "- A white square indicates that a neuron has saturated toward +1 or -1.\n",
    "\n",
    "What’s the Problem?\n",
    "When a neuron’s activation output consistently hits the saturation points of the tanh function (+1 or -1), its gradient becomes nearly zero. This means:\n",
    "\n",
    "- The neuron stops learning because there's no meaningful gradient signal.\n",
    "\n",
    "- We call this phenomenon a \"dead cell\" or \"dead neuron\".\n",
    "\n",
    "- If this persists across training samples, the neuron becomes effectively useless to the network.\n",
    "\n",
    "How to Interpret the Plot\n",
    "If a vertical white line is visible (especially one that appears across all rows), it indicates a dead neuron.\n",
    "\n",
    "For example, if every ~30th column shows a white line, that suggests that every 30th neuron is saturating across the minibatch.\n",
    "\n",
    "- This might be caused by:\n",
    "\n",
    "- Poor weight initialization\n",
    "\n",
    "- Too large learning rate\n",
    "\n",
    "- Inappropriate activation function or lack of normalization\n",
    "\n"
   ],
   "id": "c3b767c10b4dfe17"
  },
  {
   "metadata": {},
   "cell_type": "markdown",
   "source": [
    "Fix Suggestions\n",
    "To avoid dead neurons:\n",
    "\n",
    "- Use Kaiming initialization appropriate for tanh (gain = 5/3)\n",
    "\n",
    "- Apply Batch Normalization to keep activations in a healthy range\n",
    "\n",
    "- Monitor the training dynamics and neuron usage visually, just like in this plot"
   ],
   "id": "a0e9cf48a902f800"
  },
  {
   "metadata": {
    "ExecuteTime": {
     "end_time": "2025-07-20T21:13:03.300817Z",
     "start_time": "2025-07-16T01:30:40.676923Z"
    }
   },
   "cell_type": "code",
   "source": [
    "plt.figure(figsize=(20,10))\n",
    "plt.title('Identifying the dead cells from tanh (layer)')\n",
    "plt.imshow(h.abs() > 0.99, cmap=\"grey\", interpolation=\"nearest\");"
   ],
   "id": "5d71ff71b23d122f",
   "outputs": [
    {
     "data": {
      "text/plain": [
       "<Figure size 2000x1000 with 1 Axes>"
      ],
      "image/png": "[encoded data removed]"
     },
     "metadata": {},
     "output_type": "display_data"
    }
   ],
   "execution_count": 18
  },
  {
   "metadata": {
    "ExecuteTime": {
     "end_time": "2025-07-20T21:18:18.040527Z",
     "start_time": "2025-07-20T21:18:17.944890Z"
    }
   },
   "cell_type": "code",
   "source": [
    "# distribution of activations\n",
    "plt.hist(h.view(-1).tolist(), bins=50);"
   ],
   "id": "7221960ed2458515",
   "outputs": [
    {
     "data": {
      "text/plain": [
       "<Figure size 640x480 with 1 Axes>"
      ],
      "image/png": "[encoded data removed]"
     },
     "metadata": {},
     "output_type": "display_data"
    }
   ],
   "execution_count": 12
  },
  {
   "metadata": {
    "ExecuteTime": {
     "end_time": "2025-07-20T21:18:20.568412Z",
     "start_time": "2025-07-20T21:18:20.500134Z"
    }
   },
   "cell_type": "code",
   "source": [
    "# distributions of weights before applying non linearity\n",
    "plt.hist(hpreat.view(-1).tolist(),  bins=50);"
   ],
   "id": "69b87e22370ebe01",
   "outputs": [
    {
     "data": {
      "text/plain": [
       "<Figure size 640x480 with 1 Axes>"
      ],
      "image/png": "[encoded data removed]"
     },
     "metadata": {},
     "output_type": "display_data"
    }
   ],
   "execution_count": 13
  },
  {
   "metadata": {
    "ExecuteTime": {
     "end_time": "2025-07-20T21:18:22.858560Z",
     "start_time": "2025-07-20T21:18:22.589257Z"
    }
   },
   "cell_type": "code",
   "source": "plt.plot(lossi)",
   "id": "7593deda58c1893",
   "outputs": [
    {
     "data": {
      "text/plain": [
       "[<matplotlib.lines.Line2D at 0x10cd31590>]"
      ]
     },
     "execution_count": 14,
     "metadata": {},
     "output_type": "execute_result"
    },
    {
     "data": {
      "text/plain": [
       "<Figure size 640x480 with 1 Axes>"
      ],
      "image/png": "[encoded data removed]"
     },
     "metadata": {},
     "output_type": "display_data"
    }
   ],
   "execution_count": 14
  },
  {
   "metadata": {},
   "cell_type": "markdown",
   "source": [
    "## =========================\n",
    "## Training & Val loss\n",
    "## ========================="
   ],
   "id": "f1202229a8cae9dd"
  },
  {
   "metadata": {
    "ExecuteTime": {
     "end_time": "2025-07-20T21:13:03.303504Z",
     "start_time": "2025-07-16T01:38:56.055159Z"
    }
   },
   "cell_type": "code",
   "source": [
    "@torch.no_grad() # decorator helps to disable gradient traking during backward pass\n",
    "def split_loss(split):\n",
    "    x,y = {\n",
    "        'train' : (Xtr,Ytr),\n",
    "        'valid' : (Xdev,Ydev),\n",
    "        'test' : (Xte,Yte),\n",
    "    }[split]\n",
    "\n",
    "    emb = C[x]\n",
    "    embcat = emb.view(emb.shape[0], -1)\n",
    "    hpreat = embcat @ W1 # + b1\n",
    "    hpreat = bngain *(hpreat - bnmean_running)/bnstd_running + bnbias\n",
    "    h = torch.tanh(hpreat)\n",
    "    logits = h @ W2 + b2\n",
    "    loss = F.cross_entropy(logits, y)\n",
    "    print(f'{split} loss :{loss.item()}')\n",
    "\n",
    "split_loss(\"train\")\n",
    "split_loss(\"valid\")"
   ],
   "id": "759dd1317bf84a1f",
   "outputs": [
    {
     "name": "stdout",
     "output_type": "stream",
     "text": [
      "train loss :2.069355010986328\n",
      "valid loss :2.1184942722320557\n"
     ]
    }
   ],
   "execution_count": 22
  },
  {
   "metadata": {},
   "cell_type": "markdown",
   "source": [
    "---\n",
    "\n",
    "## 📊 Training Improvements Summary\n",
    "\n",
    "We iteratively refined our model using several architectural and initialization enhancements. Below is a comparison of **training and validation loss** across different stages:\n",
    "\n",
    "| Change Made                                       | Train Loss | Validation Loss |\n",
    "|--------------------------------------------------|------------|-----------------|\n",
    "| 🔹 **Original**                                   | 2.1245     | 2.1682          |\n",
    "| 🔧 Fix: Softmax was confidently wrong             | 2.0750     | 2.1316          |\n",
    "| 🔧 Fix: `tanh` layer too saturated at init        | 2.0697     | 2.1185          |\n",
    "| 📐 Use: Semi-principled **Kaiming Initialization**| 2.0377     | 2.1070          |\n",
    "| 🧪 Add: **Batch Normalization**                   | 2.0694     | 2.1185          |\n",
    "\n",
    "---\n",
    "\n",
    "### 🧠 Observations\n",
    "\n",
    "- Each modification led to **gradual improvements** in train and validation loss.\n",
    "- However, since we’re working with a **small dataset**, the gains are **limited and sometimes marginal**.\n",
    "- **Batch normalization**, while powerful in deeper networks, may not show major benefits in this shallow architecture.\n",
    "\n",
    "\n"
   ],
   "id": "b4a759b0b94d6605"
  },
  {
   "metadata": {
    "ExecuteTime": {
     "end_time": "2025-07-20T21:13:03.303777Z",
     "start_time": "2025-07-11T04:50:38.045889Z"
    }
   },
   "cell_type": "code",
   "source": [
    "# visualize dimensions 0 and 1 of the embedding matrix C for all characters\n",
    "plt.figure(figsize=(8,8))\n",
    "plt.scatter(C[:,0].data, C[:,1].data, s=200)\n",
    "for i in range(C.shape[0]):\n",
    "    plt.text(C[i,0].item(), C[i,1].item(), itos[i], ha=\"center\", va=\"center\", color='white')\n",
    "plt.grid('minor')"
   ],
   "id": "77837dc7fac0b63",
   "outputs": [
    {
     "data": {
      "text/plain": [
       "<Figure size 800x800 with 1 Axes>"
      ],
      "image/png": "[encoded data removed]"
     },
     "metadata": {},
     "output_type": "display_data"
    }
   ],
   "execution_count": 73
  },
  {
   "metadata": {},
   "cell_type": "markdown",
   "source": [
    "## =========================\n",
    "## Sample From the Model\n",
    "## ========================="
   ],
   "id": "dfe63ff0f6ab9769"
  },
  {
   "metadata": {
    "ExecuteTime": {
     "end_time": "2025-07-20T21:13:03.303897Z",
     "start_time": "2025-07-11T14:09:10.869964Z"
    }
   },
   "cell_type": "code",
   "source": [
    "# sample from the model\n",
    "g = torch.Generator().manual_seed(2147483657)\n",
    "\n",
    "for _ in range(20):\n",
    "    out = []\n",
    "    # intializing with all zeros [0,0,0] (...)\n",
    "    context = [0] * block_size\n",
    "    while True:\n",
    "        # forward pass to the nerual network\n",
    "        embed = C[torch.tensor([context])] # (1, block_size, d)\n",
    "        h = torch.tanh(embed.view(1, -1) @ W1 + b1)\n",
    "        logits = h @ W2 + b2\n",
    "        probs = F.softmax(logits, dim=1)\n",
    "\n",
    "        # sampling from the distribution using multinomial\n",
    "        ix = torch.multinomial(probs, num_samples=1, generator=g)\n",
    "\n",
    "        # shifting the context window ... ---> e ==> ..e --> m\n",
    "        context = context[1:] + [ix]\n",
    "        out.append(ix.item())\n",
    "        # if the sample is special token (.) break\n",
    "        if ix ==0:\n",
    "            break\n",
    "    # decoding the output embeddings\n",
    "    print(''.join(itos[i] for i in out))\n",
    "\n",
    "\n",
    "\n"
   ],
   "id": "50d572395528b6c4",
   "outputs": [
    {
     "name": "stdout",
     "output_type": "stream",
     "text": [
      "carmahzati.\n",
      "havi.\n",
      "kimrix.\n",
      "taty.\n",
      "hacaylie.\n",
      "mahita.\n",
      "deliah.\n",
      "jarqui.\n",
      "nellara.\n",
      "chaiivon.\n",
      "leigh.\n",
      "ham.\n",
      "pori.\n",
      "quintis.\n",
      "lilei.\n",
      "jadiquoanthoniearynix.\n",
      "kaelishuat.\n",
      "emme.\n",
      "iia.\n",
      "gian.\n"
     ]
    }
   ],
   "execution_count": 120
  },
  {
   "metadata": {},
   "cell_type": "markdown",
   "source": [
    "---\n",
    "\n",
    "### 🚀 Future Directions\n",
    "\n",
    "To unlock further improvements:\n",
    "\n",
    "- 📈 **Build a deeper MLP** with more hidden layers.\n",
    "- 🔁 **Increase the context size** (block size) to capture longer character dependencies.\n",
    "- 💾 Train on **larger datasets** to better leverage the capacity of the network.\n",
    "\n",
    "Even though progress appears incremental, these tuning steps set up a robust foundation for **scaling the model** further.\n",
    "\n",
    "---"
   ],
   "id": "aca46d4fd73a4a04"
  }
 ],
 "metadata": {
  "kernelspec": {
   "display_name": "Python 3",
   "language": "python",
   "name": "python3"
  },
  "language_info": {
   "codemirror_mode": {
    "name": "ipython",
    "version": 2
   },
   "file_extension": ".py",
   "mimetype": "text/x-python",
   "name": "python",
   "nbconvert_exporter": "python",
   "pygments_lexer": "ipython2",
   "version": "2.7.6"
  }
 },
 "nbformat": 4,
 "nbformat_minor": 5
}

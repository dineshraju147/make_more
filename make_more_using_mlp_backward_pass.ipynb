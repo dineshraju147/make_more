{
 "cells": [
  {
   "metadata": {},
   "cell_type": "markdown",
   "source": [
    "## Make_More V3\n",
    "#### Bulding our own loss.backward()\n"
   ],
   "id": "b9a52b674836080e"
  },
  {
   "cell_type": "code",
   "id": "initial_id",
   "metadata": {
    "collapsed": true,
    "ExecuteTime": {
     "end_time": "2025-07-18T12:21:33.264949Z",
     "start_time": "2025-07-18T12:21:33.249434Z"
    }
   },
   "source": [
    "import torch\n",
    "import torch.nn.functional as F\n",
    "import matplotlib.pyplot as plt # for making figures\n",
    "from networkx.classes import non_edges\n",
    "from sympy import hermite_prob\n",
    "from torch import nn\n",
    "# from Transformers.NanoGPT import vocab_size\n",
    "%matplotlib inline\n"
   ],
   "outputs": [],
   "execution_count": 76
  },
  {
   "metadata": {
    "ExecuteTime": {
     "end_time": "2025-07-18T12:21:34.585367Z",
     "start_time": "2025-07-18T12:21:34.570831Z"
    }
   },
   "cell_type": "code",
   "source": [
    "# read in all the words\n",
    "words = open('names.txt', 'r').read().splitlines()\n",
    "words[:8]"
   ],
   "id": "8a2b89a8ca48a0e",
   "outputs": [
    {
     "data": {
      "text/plain": [
       "['emma', 'olivia', 'ava', 'isabella', 'sophia', 'charlotte', 'mia', 'amelia']"
      ]
     },
     "execution_count": 77,
     "metadata": {},
     "output_type": "execute_result"
    }
   ],
   "execution_count": 77
  },
  {
   "metadata": {
    "ExecuteTime": {
     "end_time": "2025-07-18T12:21:36.118932Z",
     "start_time": "2025-07-18T12:21:36.113826Z"
    }
   },
   "cell_type": "code",
   "source": "len(words)",
   "id": "b3d1244c552afb16",
   "outputs": [
    {
     "data": {
      "text/plain": [
       "32033"
      ]
     },
     "execution_count": 78,
     "metadata": {},
     "output_type": "execute_result"
    }
   ],
   "execution_count": 78
  },
  {
   "metadata": {
    "ExecuteTime": {
     "end_time": "2025-07-18T12:21:37.206254Z",
     "start_time": "2025-07-18T12:21:37.197856Z"
    }
   },
   "cell_type": "code",
   "source": [
    "# build the vocabulary of characters and mappings to/from integers\n",
    "chars = sorted(list(set(''.join(words))))\n",
    "stoi = {s:i+1 for i,s in enumerate(chars)}\n",
    "stoi['.'] = 0\n",
    "itos = {i:s for s,i in stoi.items()}\n",
    "vocab_size = len(itos)\n",
    "print(itos)\n",
    "print(vocab_size)"
   ],
   "id": "fb6993bd6009f0fb",
   "outputs": [
    {
     "name": "stdout",
     "output_type": "stream",
     "text": [
      "{1: 'a', 2: 'b', 3: 'c', 4: 'd', 5: 'e', 6: 'f', 7: 'g', 8: 'h', 9: 'i', 10: 'j', 11: 'k', 12: 'l', 13: 'm', 14: 'n', 15: 'o', 16: 'p', 17: 'q', 18: 'r', 19: 's', 20: 't', 21: 'u', 22: 'v', 23: 'w', 24: 'x', 25: 'y', 26: 'z', 0: '.'}\n",
      "27\n"
     ]
    }
   ],
   "execution_count": 79
  },
  {
   "metadata": {
    "ExecuteTime": {
     "end_time": "2025-07-18T12:21:39.608671Z",
     "start_time": "2025-07-18T12:21:39.132155Z"
    }
   },
   "cell_type": "code",
   "source": [
    "block_size = 3\n",
    "context = [0] * block_size\n",
    "\n",
    "\n",
    "def build_datasets(words):\n",
    "    X , Y = [] , []\n",
    "\n",
    "    for w in words:\n",
    "        # print(w)\n",
    "        context = [0] * block_size\n",
    "        for ch in w + \".\":\n",
    "            ix = stoi[ch]\n",
    "            X.append(context)\n",
    "            Y.append(ix)\n",
    "            # print(\"X:\" , X ,  \"Y:\" , Y)\n",
    "            # print(''.join(itos[i] for i in context), '--->', itos[ix])\n",
    "            context = context[1:] + [ix]\n",
    "\n",
    "    X = torch.tensor(X)\n",
    "    Y = torch.tensor(Y)\n",
    "    return X, Y\n",
    "\n",
    "import random\n",
    "random.seed(0)\n",
    "random.shuffle(words)\n",
    "n1 = int(0.8*len(words))\n",
    "n2 = int(0.9*len(words))\n",
    "\n",
    "Xtr, Ytr = build_datasets(words[:n1])  # 80% of Xtr\n",
    "Xdev, Ydev = build_datasets(words[n1:n2]) # 10%\n",
    "Xte, Yte = build_datasets(words[n2:]) # 10%\n",
    "\n",
    "print(f'Xtr: {Xtr.shape}, Ytr: {Ytr.shape}')\n",
    "print(f'Xdev: {Xdev.shape}, Ydev: {Ydev.shape}')\n",
    "print(f'Xte: {Xte.shape}, Yte: {Yte.shape}')\n",
    "\n"
   ],
   "id": "e9260b3b47607686",
   "outputs": [
    {
     "name": "stdout",
     "output_type": "stream",
     "text": [
      "Xtr: torch.Size([182594, 3]), Ytr: torch.Size([182594])\n",
      "Xdev: torch.Size([22846, 3]), Ydev: torch.Size([22846])\n",
      "Xte: torch.Size([22706, 3]), Yte: torch.Size([22706])\n"
     ]
    }
   ],
   "execution_count": 80
  },
  {
   "metadata": {
    "ExecuteTime": {
     "end_time": "2025-07-18T12:21:41.118017Z",
     "start_time": "2025-07-18T12:21:41.114064Z"
    }
   },
   "cell_type": "code",
   "source": [
    "# Function Used to comparing manual gradients with Pytorch Gradients\n",
    "def cmp(s, dt , t):\n",
    "    ex = torch.all(dt == t.grad).item()\n",
    "    app = torch.allclose(dt, t.grad)\n",
    "    maxdiff = (dt - t.grad).abs().max().item()\n",
    "    print(f'{s:15s} | exact: {str(ex):5s} | approximate: {str(app):5s} | maxdiff: {maxdiff}')"
   ],
   "id": "99d2fe197c60b428",
   "outputs": [],
   "execution_count": 81
  },
  {
   "metadata": {
    "ExecuteTime": {
     "end_time": "2025-07-18T12:21:42.783881Z",
     "start_time": "2025-07-18T12:21:42.773145Z"
    }
   },
   "cell_type": "code",
   "source": [
    "n_embd = 10 # the dimensionality of the character embedding vectors\n",
    "n_hidden = 64 # the number of neurons in the hidden layer of the MLP\n",
    "\n",
    "g = torch.Generator().manual_seed(2147483647) # for reproducibility\n",
    "# -------------Embeddings --------------------\n",
    "C  = torch.randn((vocab_size, n_embd),            generator=g)\n",
    "# Layer 1\n",
    "W1 = torch.randn((n_embd * block_size, n_hidden), generator=g) * (5/3)/((n_embd * block_size)**0.5)\n",
    "b1 = torch.randn(n_hidden,                        generator=g) * 0.1 # using b1 just for fun, it's useless because of BN\n",
    "# Layer 2\n",
    "W2 = torch.randn((n_hidden, vocab_size),          generator=g) * 0.1\n",
    "b2 = torch.randn(vocab_size,                      generator=g) * 0.1\n",
    "# BatchNorm parameters\n",
    "bngain = torch.randn((1, n_hidden))*0.1 + 1.0\n",
    "bnbias = torch.randn((1, n_hidden))*0.1\n",
    "\n",
    "# Note: I am initializating many of these parameters in non-standard ways\n",
    "# because sometimes initializating with e.g. all zeros could mask an incorrect\n",
    "# implementation of the backward pass.\n",
    "\n",
    "parameters = [C, W1, b1, W2, b2, bngain, bnbias]\n",
    "print(sum(p.nelement() for p in parameters)) # number of parameters in total\n",
    "for p in parameters:\n",
    "  p.requires_grad = True"
   ],
   "id": "14d868e8a0c468c9",
   "outputs": [
    {
     "name": "stdout",
     "output_type": "stream",
     "text": [
      "4137\n"
     ]
    }
   ],
   "execution_count": 82
  },
  {
   "metadata": {
    "ExecuteTime": {
     "end_time": "2025-07-18T12:21:45.343071Z",
     "start_time": "2025-07-18T12:21:45.336724Z"
    }
   },
   "cell_type": "code",
   "source": [
    "batch_size = 32\n",
    "n = batch_size # a shorter variable also, for convenience\n",
    "# construct a minibatch\n",
    "ix = torch.randint(0, Xtr.shape[0], (batch_size,), generator=g)\n",
    "Xb, Yb = Xtr[ix], Ytr[ix] # batch X,Y"
   ],
   "id": "2a00d2eda1eca708",
   "outputs": [],
   "execution_count": 83
  },
  {
   "metadata": {
    "ExecuteTime": {
     "end_time": "2025-07-18T12:21:46.949044Z",
     "start_time": "2025-07-18T12:21:46.945701Z"
    }
   },
   "cell_type": "code",
   "source": "Xb.shape",
   "id": "d9a59467fd0d9c4e",
   "outputs": [
    {
     "data": {
      "text/plain": [
       "torch.Size([32, 3])"
      ]
     },
     "execution_count": 84,
     "metadata": {},
     "output_type": "execute_result"
    }
   ],
   "execution_count": 84
  },
  {
   "metadata": {
    "ExecuteTime": {
     "end_time": "2025-07-18T18:42:44.682171Z",
     "start_time": "2025-07-18T18:42:44.671275Z"
    }
   },
   "cell_type": "code",
   "source": [
    "# Forward pass, \"chunkated\" into smaller steps that are possible to backward one at a time\n",
    "# ---------------Getting the Embeddings of character contex-------------\n",
    "emb = C[Xb]\n",
    "embcat = emb.view(Xb.shape[0],-1) # concatenate the vectors\n",
    "\n",
    "# ----------------Linear Layer 1----------------------\n",
    "hprebn = embcat @ W1 +b1\n",
    "\n",
    "#---------------- Batch Norm Layer -------------------\n",
    "bnmeani = 1/n*hprebn.sum(0, keepdim=True)\n",
    "bndiff = hprebn - bnmeani\n",
    "bndiff2 = bndiff**2\n",
    "bnvar = 1/(n-1)*(bndiff2).sum(0, keepdim=True) # note: Bessel's correction (dividing by n-1, not n)\n",
    "bnvar_inv = (bnvar + 1e-5)**-0.5\n",
    "bnraw = bndiff*bnvar_inv\n",
    "hpreact = bngain * bnraw + bnbias\n",
    "\n",
    "# -----Non-linearity----------------------\n",
    "h = torch.tanh(hpreact) # hidden layer\n",
    "\n",
    "#---------Linear Layer 2 (27 neurons for 27 char)----------\n",
    "logits = h @ W2 + b2\n",
    "print(f'Logits:{logits.shape}')\n",
    "# ----------------cross entropy loss (same as F.cross_entropy(logits, Yb))----\n",
    "logit_maxes = logits.max(1, keepdim=True).values\n",
    "norm_logits = logits - logit_maxes # subtracting logits from max for numerical stability\n",
    "counts = norm_logits.exp()\n",
    "counts_sum = counts.sum(1, keepdim=True)\n",
    "counts_sum_inv = counts_sum**-1\n",
    "probs = counts*counts_sum_inv\n",
    "logprobs = probs.log()\n",
    "# calculating loss from log probs\n",
    "loss = -logprobs[range(n), Yb].mean()  # this line plucks the correct next character log probs values as in Yb(index)\n",
    "print(f'Manually Calculated Loss:{loss}')\n",
    "\n",
    "# PyTorch backward pass\n",
    "for p in parameters:\n",
    "    p.grad = None\n",
    "for t in [logprobs, probs, counts, counts_sum, counts_sum_inv, # afaik there is no cleaner way\n",
    "          norm_logits, logit_maxes, logits, h, hpreact, bnraw,\n",
    "         bnvar_inv, bnvar, bndiff2, bndiff, hprebn, bnmeani,\n",
    "         embcat, emb]:\n",
    "    t.retain_grad()\n",
    "loss.backward()\n",
    "print(f'Pytorch calculated Loss :{loss}')"
   ],
   "id": "1e3cbfa313397566",
   "outputs": [
    {
     "name": "stdout",
     "output_type": "stream",
     "text": [
      "Logits:torch.Size([32, 27])\n",
      "Manually Calculated Loss:3.296250343322754\n",
      "Pytorch calculated Loss :3.296250343322754\n"
     ]
    }
   ],
   "execution_count": 103
  },
  {
   "metadata": {
    "ExecuteTime": {
     "end_time": "2025-07-18T18:42:46.779065Z",
     "start_time": "2025-07-18T18:42:46.773923Z"
    }
   },
   "cell_type": "code",
   "source": [
    "print(f'dlogits :{dlogits.shape}')\n",
    "print(f'H shape: {h.shape}')\n",
    "print(f'W2 shape: {W2.shape}')\n",
    "print(f'b2 shape: {b2.shape}')"
   ],
   "id": "e6ce48b24fd057ea",
   "outputs": [
    {
     "name": "stdout",
     "output_type": "stream",
     "text": [
      "dlogits :torch.Size([32, 27])\n",
      "H shape: torch.Size([32, 64])\n",
      "W2 shape: torch.Size([64, 27])\n",
      "b2 shape: torch.Size([27])\n"
     ]
    }
   ],
   "execution_count": 104
  },
  {
   "metadata": {
    "ExecuteTime": {
     "end_time": "2025-07-19T19:10:07.185310Z",
     "start_time": "2025-07-19T19:10:07.178934Z"
    }
   },
   "cell_type": "code",
   "source": [
    "# ------------hprebn = embcat @ W1 +b1--------------\n",
    "print(f'hprebn :{hprebn.shape}')\n",
    "print(f'embcat: {embcat.shape}')\n",
    "print(f'W1: {W1.shape}')\n",
    "print(f'b1: {b1.shape}')\n",
    "\n",
    "dembcat =  dhprebn @ W1.T\n",
    "print(f'dembcat : {dembcat.shape}')\n",
    "dW1 = embcat.T @ dhprebn\n",
    "print(f'dW1: {dW1.shape}')\n",
    "db1 = dhprebn.sum(0)\n",
    "print(f'db1 :{db1.shape}')"
   ],
   "id": "2a159821eb230f1e",
   "outputs": [
    {
     "name": "stdout",
     "output_type": "stream",
     "text": [
      "hprebn :torch.Size([32, 64])\n",
      "embcat: torch.Size([32, 30])\n",
      "W1: torch.Size([30, 64])\n",
      "b1: torch.Size([64])\n",
      "dembcat : torch.Size([32, 30])\n",
      "dW1: torch.Size([30, 64])\n",
      "db1 :torch.Size([64])\n"
     ]
    }
   ],
   "execution_count": 129
  },
  {
   "metadata": {
    "ExecuteTime": {
     "end_time": "2025-07-18T18:42:48.019066Z",
     "start_time": "2025-07-18T18:42:48.013444Z"
    }
   },
   "cell_type": "code",
   "source": [
    "# ------------ hpreact = bngain * bnraw + bnbias ------------\n",
    "print(f'hpreact :{hpreact.shape}')\n",
    "print(f'bngain :{bngain.shape}')\n",
    "print(f'bnraw : {bnraw.shape}')\n",
    "print(f'bnbias :{bnbias.shape}')"
   ],
   "id": "2b6524fe4a5f6fda",
   "outputs": [
    {
     "name": "stdout",
     "output_type": "stream",
     "text": [
      "hpreact :torch.Size([32, 64])\n",
      "bngain :torch.Size([1, 64])\n",
      "bnraw : torch.Size([32, 64])\n",
      "bnbias :torch.Size([1, 64])\n"
     ]
    }
   ],
   "execution_count": 105
  },
  {
   "metadata": {
    "ExecuteTime": {
     "end_time": "2025-07-18T03:26:13.658305Z",
     "start_time": "2025-07-18T03:26:13.631431Z"
    }
   },
   "cell_type": "code",
   "source": "#\n",
   "id": "d7ba07a2cf7e2e69",
   "outputs": [
    {
     "data": {
      "text/plain": [
       "torch.Size([1, 64])"
      ]
     },
     "execution_count": 73,
     "metadata": {},
     "output_type": "execute_result"
    }
   ],
   "execution_count": 73
  },
  {
   "metadata": {
    "ExecuteTime": {
     "end_time": "2025-07-18T18:42:49.739923Z",
     "start_time": "2025-07-18T18:42:49.731827Z"
    }
   },
   "cell_type": "code",
   "source": [
    "# --------backprop : logits = h @ W2 + b2 ---------------\n",
    "dh = dlogits @ W2.T\n",
    "dW2 = h.T @ dlogits\n",
    "db2 = dlogits.sum(0)"
   ],
   "id": "ec818da2b4affc32",
   "outputs": [],
   "execution_count": 106
  },
  {
   "metadata": {
    "ExecuteTime": {
     "end_time": "2025-07-18T18:43:11.600153Z",
     "start_time": "2025-07-18T18:43:11.591285Z"
    }
   },
   "cell_type": "code",
   "source": [
    "# ------bnraw = bndiff*bnvar_inv --------\n",
    "print(bnraw.shape)\n",
    "print(bndiff.shape)\n",
    "print(bnvar.shape)\n",
    "print(bnvar_inv.shape)\n",
    "# -- dbnraw/dbndiff = bnvar_inv*bnraw\n",
    "dbndiff = bnvar_inv*dbnraw\n",
    "print(dbndiff.shape)\n",
    "\n",
    "#------bnvar_inv = (bnvar**2 + 1e-5)**-0.5 --------\n",
    "dbnvar =  -0.5*(bnvar + 1e-5)**-1.5\n",
    "\n",
    "\n",
    "\n",
    "\n"
   ],
   "id": "fa9a790393a5e7bb",
   "outputs": [
    {
     "name": "stdout",
     "output_type": "stream",
     "text": [
      "torch.Size([32, 64])\n",
      "torch.Size([32, 64])\n",
      "torch.Size([1, 64])\n",
      "torch.Size([1, 64])\n",
      "torch.Size([32, 64])\n"
     ]
    }
   ],
   "execution_count": 110
  },
  {
   "metadata": {
    "ExecuteTime": {
     "end_time": "2025-07-18T00:50:48.153024Z",
     "start_time": "2025-07-18T00:50:47.974024Z"
    }
   },
   "cell_type": "code",
   "outputs": [
    {
     "data": {
      "text/plain": [
       "<matplotlib.image.AxesImage at 0x1126146e0>"
      ]
     },
     "execution_count": 60,
     "metadata": {},
     "output_type": "execute_result"
    },
    {
     "data": {
      "text/plain": [
       "<Figure size 640x480 with 1 Axes>"
      ],
      "image/png": "[encoded data removed]"
     },
     "metadata": {},
     "output_type": "display_data"
    }
   ],
   "execution_count": 60,
   "source": "plt.imshow(F.one_hot(logits.max(1).indices, num_classes=logits.shape[1]))",
   "id": "aac4e3ed9cd4835d"
  },
  {
   "metadata": {
    "ExecuteTime": {
     "end_time": "2025-07-19T19:22:40.206818Z",
     "start_time": "2025-07-19T19:22:40.179593Z"
    }
   },
   "cell_type": "code",
   "source": [
    "# ------- Backpropagating through the whole thing manually\n",
    "# ------- Backprop through exactly all variables\n",
    "# ------- As we defined in the forward pass one by one\n",
    "\n",
    "dlogprobs = torch.zeros_like(logprobs)\n",
    "dlogprobs[range(n), Yb] = -1.0/n\n",
    "#  probs ---> log(probs)------> logprobs ====> dprobs = 1/probs*d(output)\n",
    "dprobs = (1.0/probs)*dlogprobs # chain rule\n",
    "dcounts_sum_inv = (counts*dprobs).sum(1, keepdim=True) # summation is due to the replication of counts_sum_inv\n",
    "# ----- Since the shape of counts and counts_sum_inv are not equal there is a replication of counts_sum_inv to\n",
    "# all of columns\n",
    "# C = a*b tensors ====> dc/da = a * chainrule---------------\n",
    "# a[3x3] , b[3x1]\n",
    "# a11*b1  a12*b1 a13*b1 # here b is replicating along the all columns of a\n",
    "# a21*b2  a22*b2 a23*b2 # so for this in backward pass while calculating gradient if same node gives two outputs\n",
    "# a31*b3 a32*b3  a33*b3 # the gradients have to summ at that node\n",
    "dcounts = counts_sum_inv * dprobs # counts node is using two branches so we need to sum the gradients\n",
    "dcounts_sum = -(counts_sum**-2)*dcounts_sum_inv\n",
    "# ---- counts.sum(1, keepdim=True) here we are using sum for row summing\n",
    "#  a11 a12 a13 => b1 = a11 + a12 + a13\n",
    "#  a21 a22 a23 => b2 = a21 + a22 + a23\n",
    "#  a31 a32 a33 => b2 = a31 + a32 + a33\n",
    "dcounts += torch.ones_like(counts)*dcounts_sum\n",
    "dnorm_logits = counts*dcounts\n",
    "# ---norm_logits = logits - logit_maxes   the shape is not same (logit maxes has [32, 1] which is broadcasting 27 times\n",
    "# we have to encounter this as we do in the dcounts_sum_inv_\n",
    "# c11 c12 c13 = a11 a12 a13  - b1\n",
    "# c21 c22 c23 = a21 a22 a23  - b2 # so dlogits =  1* chain_rule ==dnorm_logits\n",
    "# c31 c32 c33 = a31 a32 a33  - b3\n",
    "dlogits = dnorm_logits.clone()\n",
    "dlogit_maxes =  -(dnorm_logits).sum(1, keepdim=True)\n",
    "# -------------- logits.max(1, keepdim=True)---------\n",
    "dlogits += F.one_hot(logits.max(1).indices, num_classes=logits.shape[1])*dlogit_maxes\n",
    "# --------backprop : logits = h @ W2 + b2 ---------------\n",
    "dh = dlogits @ W2.T\n",
    "dW2 = h.T @ dlogits\n",
    "db2 = dlogits.sum(0)\n",
    "# --------- h = torch.tanh(hpreact) --------------- dh/d(z) = 1 - (tanh(z))**2(chainrule) === z= hpreact\n",
    "dhpreact = (1- h**2)*dh\n",
    "# --------------------------hpreact = bngain * bnraw + bnbias ------------------------\n",
    "dbngain = (bnraw*dhpreact).sum(0, keepdim=True)\n",
    "dbnraw = (bngain*dhpreact)\n",
    "dbnbias = (dhpreact).sum(0, keepdim=True)\n",
    "# -----------bnraw = bndiff*bnvar_inv -----------------\n",
    "dbndiff = bnvar_inv*dbnraw\n",
    "dbnvar_inv = (bndiff*dbnraw).sum(0, keepdim=True)\n",
    "\n",
    "#------bnvar_inv = (bnvar**2 + 1e-5)**-0.5 --------\n",
    "dbnvar =  (-0.5*(bnvar + 1e-5)**-1.5)* dbnvar_inv\n",
    "# Note: When we have a tensor.Sum() in forward pass, => turns to a replication with broadcasting in the backward pass\n",
    "# Conversely, When there is a replication due broadcast in forward pass => in backward we are going to sum the values\n",
    "\n",
    "#------------ bnvar = 1/(n-1)*(bndiff2).sum(0, keepdim=True) --------------------\n",
    "# example :\n",
    "# a11 a12\n",
    "# a21 a22\n",
    "# b1  b2\n",
    "# b1 = 1/(n-1)*(a11+ a21)\n",
    "# b2 = 1/(n-1)*(a12 + a22)\n",
    "dbndiff2 = 1/(n-1)*torch.ones_like(bndiff2)*dbnvar\n",
    "# ----------------- bndiff2 = bndiff**2----------------------\n",
    "dbndiff += (2*bndiff)*dbndiff2\n",
    "# ------------------- bndiff = hprebn - bnmeani --------------------\n",
    "dhprebn = dbndiff.clone() # branch 1\n",
    "dbnmeani = (-torch.ones_like(bndiff)*dbndiff).sum(0 , keepdim=True)\n",
    "# ---------------------bnmeani = 1/n*hprebn.sum(0, keepdim=True)-----------\n",
    "dhprebn += 1.0/n*(torch.ones_like(hprebn)*dbnmeani)\n",
    "\n",
    "# ------------hprebn = embcat @ W1 +b1--------------\n",
    "dembcat =  dhprebn @ W1.T\n",
    "dW1 = embcat.T @ dhprebn\n",
    "db1 = dhprebn.sum(0)\n",
    "# ---------embcat = emb.view(Xb.shape[0],-1) -----------------\n",
    "demb = dembcat.view(emb.shape)\n",
    "# ---------- emb = C[Xb]-----------------\n",
    "dC = torch.zeros_like(C)\n",
    "for i in range(Xb.shape[0]):\n",
    "    for j in range(Xb.shape[1]):\n",
    "        ix = Xb[i,j]\n",
    "        dC[ix]+= demb[i,j]\n",
    "\n",
    "\n",
    "\n",
    "cmp('logprobs', dlogprobs, logprobs)\n",
    "cmp('probs', dprobs, probs)\n",
    "cmp('counts_sum_inv', dcounts_sum_inv, counts_sum_inv)\n",
    "cmp('counts_sum', dcounts_sum, counts_sum)\n",
    "cmp('counts', dcounts, counts)\n",
    "cmp('norm_logits', dnorm_logits, norm_logits)\n",
    "cmp('logit_maxes', dlogit_maxes, logit_maxes)\n",
    "cmp('logits', dlogits, logits)\n",
    "cmp('h', dh, h)\n",
    "cmp('W2', dW2, W2)\n",
    "cmp('b2', db2, b2)\n",
    "cmp('hpreact', dhpreact, hpreact)\n",
    "cmp('bngain', dbngain, bngain)\n",
    "cmp('bnbias', dbnbias, bnbias)\n",
    "cmp('bnraw', dbnraw, bnraw)\n",
    "cmp('bnvar_inv', dbnvar_inv, bnvar_inv)\n",
    "cmp('bnvar', dbnvar, bnvar)\n",
    "cmp('bndiff2', dbndiff2, bndiff2)\n",
    "cmp('bndiff', dbndiff, bndiff)\n",
    "cmp('bnmeani', dbnmeani, bnmeani)\n",
    "cmp('hprebn', dhprebn, hprebn)\n",
    "cmp('embcat', dembcat, embcat)\n",
    "cmp('W1', dW1, W1)\n",
    "cmp('b1', db1, b1)\n",
    "cmp('emb', demb, emb)\n"
   ],
   "id": "d7bdb8e97c68bfa4",
   "outputs": [
    {
     "name": "stdout",
     "output_type": "stream",
     "text": [
      "logprobs        | exact: True  | approximate: True  | maxdiff: 0.0\n",
      "probs           | exact: True  | approximate: True  | maxdiff: 0.0\n",
      "counts_sum_inv  | exact: True  | approximate: True  | maxdiff: 0.0\n",
      "counts_sum      | exact: True  | approximate: True  | maxdiff: 0.0\n",
      "counts          | exact: True  | approximate: True  | maxdiff: 0.0\n",
      "norm_logits     | exact: True  | approximate: True  | maxdiff: 0.0\n",
      "logit_maxes     | exact: True  | approximate: True  | maxdiff: 0.0\n",
      "logits          | exact: True  | approximate: True  | maxdiff: 0.0\n",
      "h               | exact: True  | approximate: True  | maxdiff: 0.0\n",
      "W2              | exact: True  | approximate: True  | maxdiff: 0.0\n",
      "b2              | exact: True  | approximate: True  | maxdiff: 0.0\n",
      "hpreact         | exact: True  | approximate: True  | maxdiff: 0.0\n",
      "bngain          | exact: True  | approximate: True  | maxdiff: 0.0\n",
      "bnbias          | exact: True  | approximate: True  | maxdiff: 0.0\n",
      "bnraw           | exact: True  | approximate: True  | maxdiff: 0.0\n",
      "bnvar_inv       | exact: True  | approximate: True  | maxdiff: 0.0\n",
      "bnvar           | exact: True  | approximate: True  | maxdiff: 0.0\n",
      "bndiff2         | exact: True  | approximate: True  | maxdiff: 0.0\n",
      "bndiff          | exact: True  | approximate: True  | maxdiff: 0.0\n",
      "bnmeani         | exact: True  | approximate: True  | maxdiff: 0.0\n",
      "hprebn          | exact: True  | approximate: True  | maxdiff: 0.0\n",
      "embcat          | exact: True  | approximate: True  | maxdiff: 0.0\n",
      "W1              | exact: True  | approximate: True  | maxdiff: 0.0\n",
      "b1              | exact: True  | approximate: True  | maxdiff: 0.0\n",
      "emb             | exact: True  | approximate: True  | maxdiff: 0.0\n",
      "C               | exact: True  | approximate: True  | maxdiff: 0.0\n"
     ]
    }
   ],
   "execution_count": 132
  },
  {
   "metadata": {
    "ExecuteTime": {
     "end_time": "2025-07-19T20:32:11.179845Z",
     "start_time": "2025-07-19T20:32:11.115713Z"
    }
   },
   "cell_type": "code",
   "source": [
    "# Exercise 2: backprop through cross_entropy but all in one go\n",
    "# to complete this challenge look at the mathematical expression of the loss,\n",
    "# take the derivative, simplify the expression, and just write it out\n",
    "\n",
    "# forward pass\n",
    "\n",
    "# before:\n",
    "# logit_maxes = logits.max(1, keepdim=True).values\n",
    "# norm_logits = logits - logit_maxes # subtract max for numerical stability\n",
    "# counts = norm_logits.exp()\n",
    "# counts_sum = counts.sum(1, keepdims=True)\n",
    "# counts_sum_inv = counts_sum**-1 # if I use (1.0 / counts_sum) instead then I can't get backprop to be bit exact...\n",
    "# probs = counts * counts_sum_inv\n",
    "# logprobs = probs.log()\n",
    "# loss = -logprobs[range(n), Yb].mean()\n",
    "\n",
    "# now:\n",
    "loss_fast = F.cross_entropy(logits, Yb)\n",
    "print(loss_fast.item(), 'diff:', (loss_fast - loss).item())"
   ],
   "id": "48751dc9a126cac0",
   "outputs": [
    {
     "name": "stdout",
     "output_type": "stream",
     "text": [
      "3.296250343322754 diff: 0.0\n"
     ]
    }
   ],
   "execution_count": 133
  },
  {
   "metadata": {
    "ExecuteTime": {
     "end_time": "2025-07-19T20:35:13.544504Z",
     "start_time": "2025-07-19T20:35:13.518454Z"
    }
   },
   "cell_type": "code",
   "source": [
    "# backward pass through F.cross_entropy\n",
    "dlogits = F.softmax(logits, dim= 1)\n",
    "dlogits[range(n), Yb] -= 1\n",
    "dlogits /= n\n",
    "cmp('logits', dlogits, logits) # I can have only the approximate True with diff ~ 5"
   ],
   "id": "33f5557e593adada",
   "outputs": [
    {
     "name": "stdout",
     "output_type": "stream",
     "text": [
      "logits          | exact: False | approximate: True  | maxdiff: 4.190951585769653e-09\n"
     ]
    }
   ],
   "execution_count": 135
  },
  {
   "metadata": {
    "ExecuteTime": {
     "end_time": "2025-07-19T20:41:22.243760Z",
     "start_time": "2025-07-19T20:41:22.230973Z"
    }
   },
   "cell_type": "code",
   "source": "logits.shape  , Yb.shape",
   "id": "fee56c830b619135",
   "outputs": [
    {
     "data": {
      "text/plain": [
       "(torch.Size([32, 27]), torch.Size([32]))"
      ]
     },
     "execution_count": 136,
     "metadata": {},
     "output_type": "execute_result"
    }
   ],
   "execution_count": 136
  },
  {
   "metadata": {
    "ExecuteTime": {
     "end_time": "2025-07-19T20:41:53.089763Z",
     "start_time": "2025-07-19T20:41:53.078919Z"
    }
   },
   "cell_type": "code",
   "source": "F.softmax(logits, 1)[0]",
   "id": "6a6333f4bedd25cc",
   "outputs": [
    {
     "data": {
      "text/plain": [
       "tensor([0.0164, 0.0119, 0.0503, 0.0146, 0.0371, 0.0158, 0.0797, 0.0429, 0.0487,\n",
       "        0.0506, 0.0174, 0.0301, 0.0330, 0.0311, 0.0194, 0.0560, 0.0787, 0.0426,\n",
       "        0.0320, 0.0211, 0.0455, 0.0339, 0.0974, 0.0078, 0.0220, 0.0288, 0.0351],\n",
       "       grad_fn=<SelectBackward0>)"
      ]
     },
     "execution_count": 137,
     "metadata": {},
     "output_type": "execute_result"
    }
   ],
   "execution_count": 137
  },
  {
   "metadata": {
    "ExecuteTime": {
     "end_time": "2025-07-19T20:42:40.605243Z",
     "start_time": "2025-07-19T20:42:40.596634Z"
    }
   },
   "cell_type": "code",
   "source": "dlogits[0]*n",
   "id": "4eaf1ff54cfe096e",
   "outputs": [
    {
     "data": {
      "text/plain": [
       "tensor([ 0.0164,  0.0119,  0.0503,  0.0146,  0.0371, -0.9842,  0.0797,  0.0429,\n",
       "         0.0487,  0.0506,  0.0174,  0.0301,  0.0330,  0.0311,  0.0194,  0.0560,\n",
       "         0.0787,  0.0426,  0.0320,  0.0211,  0.0455,  0.0339,  0.0974,  0.0078,\n",
       "         0.0220,  0.0288,  0.0351], grad_fn=<MulBackward0>)"
      ]
     },
     "execution_count": 139,
     "metadata": {},
     "output_type": "execute_result"
    }
   ],
   "execution_count": 139
  },
  {
   "metadata": {
    "ExecuteTime": {
     "end_time": "2025-07-19T20:44:21.071556Z",
     "start_time": "2025-07-19T20:44:21.059959Z"
    }
   },
   "cell_type": "code",
   "source": "dlogits[0].sum()",
   "id": "aacfa1f8af618295",
   "outputs": [
    {
     "data": {
      "text/plain": [
       "tensor(-2.3283e-09, grad_fn=<SumBackward0>)"
      ]
     },
     "execution_count": 140,
     "metadata": {},
     "output_type": "execute_result"
    }
   ],
   "execution_count": 140
  },
  {
   "metadata": {
    "ExecuteTime": {
     "end_time": "2025-07-19T20:45:32.728561Z",
     "start_time": "2025-07-19T20:45:32.538007Z"
    }
   },
   "cell_type": "code",
   "source": [
    "plt.figure(figsize=(8,8))\n",
    "plt.imshow(dlogits.detach(), cmap='gray')"
   ],
   "id": "5fed70890b6ade7b",
   "outputs": [
    {
     "data": {
      "text/plain": [
       "<matplotlib.image.AxesImage at 0x10b154910>"
      ]
     },
     "execution_count": 141,
     "metadata": {},
     "output_type": "execute_result"
    },
    {
     "data": {
      "text/plain": [
       "<Figure size 800x800 with 1 Axes>"
      ],
      "image/png": "[encoded data removed]"
     },
     "metadata": {},
     "output_type": "display_data"
    }
   ],
   "execution_count": 141
  },
  {
   "metadata": {
    "ExecuteTime": {
     "end_time": "2025-07-19T22:06:30.016138Z",
     "start_time": "2025-07-19T22:06:29.982758Z"
    }
   },
   "cell_type": "code",
   "source": [
    "# Exercise 3: backprop through batchnorm but all in one go\n",
    "# to complete this challenge look at the mathematical expression of the output of batchnorm,\n",
    "# take the derivative w.r.t. its input, simplify the expression, and just write it out\n",
    "\n",
    "# forward pass\n",
    "\n",
    "# before:\n",
    "# bnmeani = 1/n*hprebn.sum(0, keepdim=True)\n",
    "# bndiff = hprebn - bnmeani\n",
    "# bndiff2 = bndiff**2\n",
    "# bnvar = 1/(n-1)*(bndiff2).sum(0, keepdim=True) # note: Bessel's correction (dividing by n-1, not n)\n",
    "# bnvar_inv = (bnvar + 1e-5)**-0.5\n",
    "# bnraw = bndiff * bnvar_inv\n",
    "# hpreact = bngain * bnraw + bnbias\n",
    "\n",
    "# now:\n",
    "hpreact_fast = bngain * (hprebn - hprebn.mean(0, keepdim=True)) / torch.sqrt(hprebn.var(0, keepdim=True, unbiased=True) + 1e-5) + bnbias\n",
    "print('max diff:', (hpreact_fast - hpreact).abs().max())"
   ],
   "id": "fc383b873a8ba09d",
   "outputs": [
    {
     "name": "stdout",
     "output_type": "stream",
     "text": [
      "max diff: tensor(4.7684e-07, grad_fn=<MaxBackward1>)\n"
     ]
    }
   ],
   "execution_count": 142
  },
  {
   "metadata": {
    "ExecuteTime": {
     "end_time": "2025-07-19T22:11:04.298433Z",
     "start_time": "2025-07-19T22:11:04.280981Z"
    }
   },
   "cell_type": "code",
   "source": [
    "# backward pass\n",
    "\n",
    "# before we had:\n",
    "# dbnraw = bngain * dhpreact\n",
    "# dbndiff = bnvar_inv * dbnraw\n",
    "# dbnvar_inv = (bndiff * dbnraw).sum(0, keepdim=True)\n",
    "# dbnvar = (-0.5*(bnvar + 1e-5)**-1.5) * dbnvar_inv\n",
    "# dbndiff2 = (1.0/(n-1))*torch.ones_like(bndiff2) * dbnvar\n",
    "# dbndiff += (2*bndiff) * dbndiff2\n",
    "# dhprebn = dbndiff.clone()\n",
    "# dbnmeani = (-dbndiff).sum(0)\n",
    "# dhprebn += 1.0/n * (torch.ones_like(hprebn) * dbnmeani)\n",
    "\n",
    "# calculate dhprebn given dhpreact (i.e. backprop through the batchnorm)\n",
    "# (you'll also need to use some of the variables from the forward pass up above)\n",
    "\n",
    "dhprebn = bngain*bnvar_inv/n*(n*dhpreact -dhpreact.sum(0)- n/(n-1)*bnraw*(dhpreact*bnraw).sum(0))\n",
    "cmp('hprebn', dhprebn, hprebn)"
   ],
   "id": "946afe2c316ad0f8",
   "outputs": [
    {
     "name": "stdout",
     "output_type": "stream",
     "text": [
      "hprebn          | exact: False | approximate: True  | maxdiff: 9.313225746154785e-10\n"
     ]
    }
   ],
   "execution_count": 143
  },
  {
   "metadata": {
    "ExecuteTime": {
     "end_time": "2025-07-19T22:35:17.118300Z",
     "start_time": "2025-07-19T22:33:20.083763Z"
    }
   },
   "cell_type": "code",
   "source": [
    "# Finally lets put all the code together\n",
    "# init\n",
    "n_embd = 10 # the dimensionality of the character embedding vectors\n",
    "n_hidden = 200 # the number of neurons in the hidden layer of the MLP\n",
    "\n",
    "g = torch.Generator().manual_seed(2147483647) # for reproducibility\n",
    "C  = torch.randn((vocab_size, n_embd),            generator=g)\n",
    "# Layer 1\n",
    "W1 = torch.randn((n_embd * block_size, n_hidden), generator=g) * (5/3)/((n_embd * block_size)**0.5)\n",
    "b1 = torch.randn(n_hidden,                        generator=g) * 0.1\n",
    "# Layer 2\n",
    "W2 = torch.randn((n_hidden, vocab_size),          generator=g) * 0.1\n",
    "b2 = torch.randn(vocab_size,                      generator=g) * 0.1\n",
    "# BatchNorm parameters\n",
    "bngain = torch.randn((1, n_hidden))*0.1 + 1.0\n",
    "bnbias = torch.randn((1, n_hidden))*0.1\n",
    "\n",
    "parameters = [C, W1, b1, W2, b2, bngain, bnbias]\n",
    "print(sum(p.nelement() for p in parameters)) # number of parameters in total\n",
    "for p in parameters:\n",
    "  p.requires_grad = True\n",
    "\n",
    "# same optimization\n",
    "max_steps = 200000\n",
    "batch_size = 32\n",
    "n = batch_size # convenience\n",
    "lossi = []\n",
    "\n",
    "\n",
    "# --------------Backward Pass-------------------\n",
    "with torch.no_grad():\n",
    "    # Let's start the optimization\n",
    "    for i in range(max_steps):\n",
    "        # minibatch construct\n",
    "        ix = torch.randint(0, Xtr.shape[0], (batch_size,), generator=g)\n",
    "        Xb, Yb = Xtr[ix], Ytr[ix] # batch X,Y\n",
    "        # forward pass\n",
    "        emb = C[Xb] # embed the characters into vectors\n",
    "        embcat = emb.view(emb.shape[0], -1) # concatenate the vectors\n",
    "        # Linear layer\n",
    "        hprebn = embcat @ W1 + b1 # hidden layer pre-activation\n",
    "        # BatchNorm layer\n",
    "        # -------------------------------------------------------------\n",
    "        bnmean = hprebn.mean(0, keepdim=True)\n",
    "        bnvar = hprebn.var(0, keepdim=True, unbiased=True)\n",
    "        bnvar_inv = (bnvar + 1e-5)**-0.5\n",
    "        bnraw = (hprebn - bnmean) * bnvar_inv\n",
    "        hpreact = bngain * bnraw + bnbias\n",
    "        # -------------------------------------------------------------\n",
    "        # Non-linearity\n",
    "        h = torch.tanh(hpreact) # hidden layer\n",
    "        logits = h @ W2 + b2 # output layer\n",
    "        loss = F.cross_entropy(logits, Yb) # loss function\n",
    "        # backward pass\n",
    "        for p in parameters:\n",
    "          p.grad = None\n",
    "        #loss.backward() # use this for correctness\n",
    "        #------------------\n",
    "        # manual backprop! as we derive from above\n",
    "        # -----------------(Backward Pass of Cross Entropy)-----------------\n",
    "        dlogits = F.softmax(logits, 1)\n",
    "        dlogits[range(n), Yb] -= 1\n",
    "        dlogits /= n\n",
    "        # 2nd layer backpropagation\n",
    "        dh = dlogits @ W2.T\n",
    "        dW2 = h.T @ dlogits\n",
    "        db2 = dlogits.sum(0)\n",
    "       # tanh layer\n",
    "        dhpreact = (1.0 - h**2) * dh\n",
    "        # batchnorm backprop as we derive from equation\n",
    "        dbngain = (bnraw * dhpreact).sum(0, keepdim=True)\n",
    "        dbnbias = dhpreact.sum(0, keepdim=True)\n",
    "        dhprebn = bngain*bnvar_inv/n * (n*dhpreact - dhpreact.sum(0) - n/(n-1)*bnraw*(dhpreact*bnraw).sum(0))\n",
    "        # 1st layer\n",
    "        dembcat = dhprebn @ W1.T\n",
    "        dW1 = embcat.T @ dhprebn\n",
    "        db1 = dhprebn.sum(0)\n",
    "        # embedding\n",
    "        demb = dembcat.view(emb.shape)\n",
    "        dC = torch.zeros_like(C)\n",
    "        for k in range(Xb.shape[0]):\n",
    "          for j in range(Xb.shape[1]):\n",
    "            ix = Xb[k,j]\n",
    "            dC[ix] += demb[k,j]\n",
    "        grads = [dC, dW1, db1, dW2, db2, dbngain, dbnbias]\n",
    "        #---------End Of Backward Prop--------------------------------------------------------------------------------\n",
    "\n",
    "        # update\n",
    "        lr = 0.1 if i < 100000 else 0.01 # step learning rate decay\n",
    "        for p, grad in zip(parameters, grads):\n",
    "          #p.data += -lr * p.grad #using PyTorch grad from .backward()\n",
    "          p.data += -lr * grad # new way of manual backward prop\n",
    "        # track stats\n",
    "        if i % 10000 == 0: # print every once in a while\n",
    "          print(f'{i:7d}/{max_steps:7d}: {loss.item():.4f}')\n",
    "        lossi.append(loss.log10().item())\n",
    "        # if i >= 100:\n",
    "        #     break"
   ],
   "id": "42f194f4bb996509",
   "outputs": [
    {
     "name": "stdout",
     "output_type": "stream",
     "text": [
      "12297\n",
      "      0/ 200000: 3.6642\n",
      "  10000/ 200000: 2.0908\n",
      "  20000/ 200000: 1.9414\n",
      "  30000/ 200000: 2.4209\n",
      "  40000/ 200000: 2.0367\n",
      "  50000/ 200000: 2.0508\n",
      "  60000/ 200000: 1.7356\n",
      "  70000/ 200000: 2.1609\n",
      "  80000/ 200000: 2.3147\n",
      "  90000/ 200000: 1.9014\n",
      " 100000/ 200000: 1.9420\n",
      " 110000/ 200000: 1.7423\n",
      " 120000/ 200000: 2.5159\n",
      " 130000/ 200000: 2.4714\n",
      " 140000/ 200000: 2.3367\n",
      " 150000/ 200000: 2.3549\n",
      " 160000/ 200000: 2.1146\n",
      " 170000/ 200000: 2.2802\n",
      " 180000/ 200000: 1.7952\n",
      " 190000/ 200000: 2.2002\n"
     ]
    }
   ],
   "execution_count": 151
  },
  {
   "metadata": {
    "ExecuteTime": {
     "end_time": "2025-07-19T22:32:16.154670Z",
     "start_time": "2025-07-19T22:32:15.958504Z"
    }
   },
   "cell_type": "code",
   "source": [
    "# calibrate the batch norm at the end of training\n",
    "\n",
    "with torch.no_grad():\n",
    "  # pass the training set through\n",
    "  emb = C[Xtr]\n",
    "  embcat = emb.view(emb.shape[0], -1)\n",
    "  hpreact = embcat @ W1 + b1\n",
    "  # measure the mean/std over the entire training set\n",
    "  bnmean = hpreact.mean(0, keepdim=True)\n",
    "  bnvar = hpreact.var(0, keepdim=True, unbiased=True)"
   ],
   "id": "1187c3d4fc7f7ae5",
   "outputs": [],
   "execution_count": 148
  },
  {
   "metadata": {
    "ExecuteTime": {
     "end_time": "2025-07-19T22:32:04.119343Z",
     "start_time": "2025-07-19T22:32:04.116892Z"
    }
   },
   "cell_type": "code",
   "source": [
    "# useful for checking your gradients\n",
    "# for p,g in zip(parameters, grads):\n",
    "#   cmp(str(tuple(p.shape)), g, p)"
   ],
   "id": "3624f01825590651",
   "outputs": [],
   "execution_count": 147
  },
  {
   "metadata": {
    "ExecuteTime": {
     "end_time": "2025-07-19T22:32:31.158703Z",
     "start_time": "2025-07-19T22:32:30.942131Z"
    }
   },
   "cell_type": "code",
   "source": [
    "# evaluate train and val loss\n",
    "\n",
    "@torch.no_grad() # this decorator disables gradient tracking\n",
    "def split_loss(split):\n",
    "  x,y = {\n",
    "    'train': (Xtr, Ytr),\n",
    "    'val': (Xdev, Ydev),\n",
    "    'test': (Xte, Yte),\n",
    "  }[split]\n",
    "  emb = C[x] # (N, block_size, n_embd)\n",
    "  embcat = emb.view(emb.shape[0], -1) # concat into (N, block_size * n_embd)\n",
    "  hpreact = embcat @ W1 + b1\n",
    "  hpreact = bngain * (hpreact - bnmean) * (bnvar + 1e-5)**-0.5 + bnbias\n",
    "  h = torch.tanh(hpreact) # (N, n_hidden)\n",
    "  logits = h @ W2 + b2 # (N, vocab_size)\n",
    "  loss = F.cross_entropy(logits, y)\n",
    "  print(split, loss.item())\n",
    "\n",
    "split_loss('train')\n",
    "split_loss('val')"
   ],
   "id": "3efac3a294217165",
   "outputs": [
    {
     "name": "stdout",
     "output_type": "stream",
     "text": [
      "train 2.6772406101226807\n",
      "val 2.6815273761749268\n"
     ]
    }
   ],
   "execution_count": 149
  },
  {
   "metadata": {
    "ExecuteTime": {
     "end_time": "2025-07-19T22:32:45.025318Z",
     "start_time": "2025-07-19T22:32:44.996934Z"
    }
   },
   "cell_type": "code",
   "source": [
    "# sample from the model\n",
    "g = torch.Generator().manual_seed(2147483647 + 10)\n",
    "\n",
    "for _ in range(20):\n",
    "\n",
    "    out = []\n",
    "    context = [0] * block_size # initialize with all ...\n",
    "    while True:\n",
    "      # ------------\n",
    "      # forward pass:\n",
    "      # Embedding\n",
    "      emb = C[torch.tensor([context])] # (1,block_size,d)\n",
    "      embcat = emb.view(emb.shape[0], -1) # concat into (N, block_size * n_embd)\n",
    "      hpreact = embcat @ W1 + b1\n",
    "      hpreact = bngain * (hpreact - bnmean) * (bnvar + 1e-5)**-0.5 + bnbias\n",
    "      h = torch.tanh(hpreact) # (N, n_hidden)\n",
    "      logits = h @ W2 + b2 # (N, vocab_size)\n",
    "      # ------------\n",
    "      # Sample\n",
    "      probs = F.softmax(logits, dim=1)\n",
    "      ix = torch.multinomial(probs, num_samples=1, generator=g).item()\n",
    "      context = context[1:] + [ix]\n",
    "      out.append(ix)\n",
    "      if ix == 0:\n",
    "        break\n",
    "\n",
    "    print(''.join(itos[i] for i in out))"
   ],
   "id": "ddb4ef25f8888edb",
   "outputs": [
    {
     "name": "stdout",
     "output_type": "stream",
     "text": [
      "carmahxqtellqvufi.\n",
      "mrixreaty.\n",
      "hlcadsn.\n",
      "jarhnteflpliart.\n",
      "kaqei.\n",
      "jerania.\n",
      "coriiv.\n",
      "kane.\n",
      "gph.\n",
      "bmaioi.\n",
      "dqsnnn.\n",
      "sroivwa.\n",
      "jadiq.\n",
      "warelogiearyxi.\n",
      "fkcenpdvsab.\n",
      "ed.\n",
      "ecoia.\n",
      "gtlef.\n",
      "yar.\n",
      "aulaag.\n"
     ]
    }
   ],
   "execution_count": 150
  }
 ],
 "metadata": {
  "kernelspec": {
   "display_name": "Python 3",
   "language": "python",
   "name": "python3"
  },
  "language_info": {
   "codemirror_mode": {
    "name": "ipython",
    "version": 2
   },
   "file_extension": ".py",
   "mimetype": "text/x-python",
   "name": "python",
   "nbconvert_exporter": "python",
   "pygments_lexer": "ipython2",
   "version": "2.7.6"
  }
 },
 "nbformat": 4,
 "nbformat_minor": 5
}
